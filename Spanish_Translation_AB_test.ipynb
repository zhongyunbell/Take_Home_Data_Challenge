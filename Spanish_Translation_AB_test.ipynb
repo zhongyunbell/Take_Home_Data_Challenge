{
 "cells": [
  {
   "cell_type": "markdown",
   "id": "171135ac",
   "metadata": {},
   "source": [
    "## Take Home 2: Spanish Translation A/B Test\n",
    "\n",
    "## Goal 1: Go through typical A/B test analysis steps, analyze results\n",
    "## Goal 2: Design an algorithm to automate some steps"
   ]
  },
  {
   "cell_type": "code",
   "execution_count": 1,
   "id": "c4147e49",
   "metadata": {},
   "outputs": [],
   "source": [
    "## Data sets\n",
    "\n",
    "# /Users/huangz36/Documents/DS_Challenges/Translation_Test/test_table.csv\n",
    "# /Users/huangz36/Documents/DS_Challenges/Translation_Test/user_table.csv"
   ]
  },
  {
   "cell_type": "code",
   "execution_count": 2,
   "id": "ef1978a7",
   "metadata": {},
   "outputs": [
    {
     "name": "stderr",
     "output_type": "stream",
     "text": [
      "/Users/huangz36/miniconda3/lib/python3.9/site-packages/scipy/__init__.py:146: UserWarning: A NumPy version >=1.16.5 and <1.23.0 is required for this version of SciPy (detected version 1.23.1\n",
      "  warnings.warn(f\"A NumPy version >={np_minversion} and <{np_maxversion}\"\n"
     ]
    }
   ],
   "source": [
    "import pandas as pd\n",
    "import pandas as pd\n",
    "import numpy as np\n",
    "import statsmodels as sm\n",
    "import matplotlib.pyplot as plt\n",
    "import seaborn as sns\n",
    "import scipy.stats as stats\n",
    "\n",
    "from scipy.stats import t\n",
    "import statsmodels.api as sm\n",
    "import statsmodels.stats.power as smp\n",
    "\n",
    "import matplotlib.pyplot as plt\n",
    "import seaborn as sns"
   ]
  },
  {
   "cell_type": "markdown",
   "id": "520319fb",
   "metadata": {},
   "source": [
    "### Background\n",
    "#### Spain-based users have much higher conversion rate\n",
    "#### Translation test: each country have its one translation written by a local\n",
    "#### A/B test result is negative, non-localized translation doing better\n",
    "\n",
    "### Tasks\n",
    "#### 1. Confirm the test is actually negative (old version performs better)\n",
    "#### 2. Explain why this happend, localized translation really worse?\n",
    "#### 3. Design algorithm to return FALSE if the same probelm happening"
   ]
  },
  {
   "cell_type": "code",
   "execution_count": 3,
   "id": "5af9f688",
   "metadata": {},
   "outputs": [],
   "source": [
    "test_table = \"/Users/huangz36/Documents/DS_Challenges/Translation_Test/test_table.csv\"\n",
    "user_table = \"/Users/huangz36/Documents/DS_Challenges/Translation_Test/user_table.csv\"\n",
    "\n",
    "df_test = pd.read_csv(test_table, sep=\",\", header=0)\n",
    "df_user = pd.read_csv(user_table, sep=\",\", header=0)"
   ]
  },
  {
   "cell_type": "code",
   "execution_count": 4,
   "id": "af943288",
   "metadata": {},
   "outputs": [
    {
     "data": {
      "text/html": [
       "<div>\n",
       "<style scoped>\n",
       "    .dataframe tbody tr th:only-of-type {\n",
       "        vertical-align: middle;\n",
       "    }\n",
       "\n",
       "    .dataframe tbody tr th {\n",
       "        vertical-align: top;\n",
       "    }\n",
       "\n",
       "    .dataframe thead th {\n",
       "        text-align: right;\n",
       "    }\n",
       "</style>\n",
       "<table border=\"1\" class=\"dataframe\">\n",
       "  <thead>\n",
       "    <tr style=\"text-align: right;\">\n",
       "      <th></th>\n",
       "      <th>user_id</th>\n",
       "      <th>date</th>\n",
       "      <th>source</th>\n",
       "      <th>device</th>\n",
       "      <th>browser_language</th>\n",
       "      <th>ads_channel</th>\n",
       "      <th>browser</th>\n",
       "      <th>conversion</th>\n",
       "      <th>test</th>\n",
       "    </tr>\n",
       "  </thead>\n",
       "  <tbody>\n",
       "    <tr>\n",
       "      <th>0</th>\n",
       "      <td>315281</td>\n",
       "      <td>2015-12-03</td>\n",
       "      <td>Direct</td>\n",
       "      <td>Web</td>\n",
       "      <td>ES</td>\n",
       "      <td>NaN</td>\n",
       "      <td>IE</td>\n",
       "      <td>1</td>\n",
       "      <td>0</td>\n",
       "    </tr>\n",
       "    <tr>\n",
       "      <th>1</th>\n",
       "      <td>497851</td>\n",
       "      <td>2015-12-04</td>\n",
       "      <td>Ads</td>\n",
       "      <td>Web</td>\n",
       "      <td>ES</td>\n",
       "      <td>Google</td>\n",
       "      <td>IE</td>\n",
       "      <td>0</td>\n",
       "      <td>1</td>\n",
       "    </tr>\n",
       "    <tr>\n",
       "      <th>2</th>\n",
       "      <td>848402</td>\n",
       "      <td>2015-12-04</td>\n",
       "      <td>Ads</td>\n",
       "      <td>Web</td>\n",
       "      <td>ES</td>\n",
       "      <td>Facebook</td>\n",
       "      <td>Chrome</td>\n",
       "      <td>0</td>\n",
       "      <td>0</td>\n",
       "    </tr>\n",
       "    <tr>\n",
       "      <th>3</th>\n",
       "      <td>290051</td>\n",
       "      <td>2015-12-03</td>\n",
       "      <td>Ads</td>\n",
       "      <td>Mobile</td>\n",
       "      <td>Other</td>\n",
       "      <td>Facebook</td>\n",
       "      <td>Android_App</td>\n",
       "      <td>0</td>\n",
       "      <td>1</td>\n",
       "    </tr>\n",
       "    <tr>\n",
       "      <th>4</th>\n",
       "      <td>548435</td>\n",
       "      <td>2015-11-30</td>\n",
       "      <td>Ads</td>\n",
       "      <td>Web</td>\n",
       "      <td>ES</td>\n",
       "      <td>Google</td>\n",
       "      <td>FireFox</td>\n",
       "      <td>0</td>\n",
       "      <td>1</td>\n",
       "    </tr>\n",
       "  </tbody>\n",
       "</table>\n",
       "</div>"
      ],
      "text/plain": [
       "   user_id        date  source  device browser_language ads_channel  \\\n",
       "0   315281  2015-12-03  Direct     Web               ES         NaN   \n",
       "1   497851  2015-12-04     Ads     Web               ES      Google   \n",
       "2   848402  2015-12-04     Ads     Web               ES    Facebook   \n",
       "3   290051  2015-12-03     Ads  Mobile            Other    Facebook   \n",
       "4   548435  2015-11-30     Ads     Web               ES      Google   \n",
       "\n",
       "       browser  conversion  test  \n",
       "0           IE           1     0  \n",
       "1           IE           0     1  \n",
       "2       Chrome           0     0  \n",
       "3  Android_App           0     1  \n",
       "4      FireFox           0     1  "
      ]
     },
     "execution_count": 4,
     "metadata": {},
     "output_type": "execute_result"
    }
   ],
   "source": [
    "df_test.head()"
   ]
  },
  {
   "cell_type": "code",
   "execution_count": 5,
   "id": "3c23df91",
   "metadata": {},
   "outputs": [
    {
     "data": {
      "text/plain": [
       "(453321, 9)"
      ]
     },
     "execution_count": 5,
     "metadata": {},
     "output_type": "execute_result"
    }
   ],
   "source": [
    "df_test.shape"
   ]
  },
  {
   "cell_type": "code",
   "execution_count": 6,
   "id": "386079f8",
   "metadata": {},
   "outputs": [
    {
     "data": {
      "text/html": [
       "<div>\n",
       "<style scoped>\n",
       "    .dataframe tbody tr th:only-of-type {\n",
       "        vertical-align: middle;\n",
       "    }\n",
       "\n",
       "    .dataframe tbody tr th {\n",
       "        vertical-align: top;\n",
       "    }\n",
       "\n",
       "    .dataframe thead th {\n",
       "        text-align: right;\n",
       "    }\n",
       "</style>\n",
       "<table border=\"1\" class=\"dataframe\">\n",
       "  <thead>\n",
       "    <tr style=\"text-align: right;\">\n",
       "      <th></th>\n",
       "      <th>user_id</th>\n",
       "      <th>conversion</th>\n",
       "      <th>test</th>\n",
       "    </tr>\n",
       "  </thead>\n",
       "  <tbody>\n",
       "    <tr>\n",
       "      <th>count</th>\n",
       "      <td>453321.000000</td>\n",
       "      <td>453321.000000</td>\n",
       "      <td>453321.000000</td>\n",
       "    </tr>\n",
       "    <tr>\n",
       "      <th>mean</th>\n",
       "      <td>499937.514728</td>\n",
       "      <td>0.049579</td>\n",
       "      <td>0.476446</td>\n",
       "    </tr>\n",
       "    <tr>\n",
       "      <th>std</th>\n",
       "      <td>288665.193436</td>\n",
       "      <td>0.217073</td>\n",
       "      <td>0.499445</td>\n",
       "    </tr>\n",
       "    <tr>\n",
       "      <th>min</th>\n",
       "      <td>1.000000</td>\n",
       "      <td>0.000000</td>\n",
       "      <td>0.000000</td>\n",
       "    </tr>\n",
       "    <tr>\n",
       "      <th>25%</th>\n",
       "      <td>249816.000000</td>\n",
       "      <td>0.000000</td>\n",
       "      <td>0.000000</td>\n",
       "    </tr>\n",
       "    <tr>\n",
       "      <th>50%</th>\n",
       "      <td>500019.000000</td>\n",
       "      <td>0.000000</td>\n",
       "      <td>0.000000</td>\n",
       "    </tr>\n",
       "    <tr>\n",
       "      <th>75%</th>\n",
       "      <td>749522.000000</td>\n",
       "      <td>0.000000</td>\n",
       "      <td>1.000000</td>\n",
       "    </tr>\n",
       "    <tr>\n",
       "      <th>max</th>\n",
       "      <td>1000000.000000</td>\n",
       "      <td>1.000000</td>\n",
       "      <td>1.000000</td>\n",
       "    </tr>\n",
       "  </tbody>\n",
       "</table>\n",
       "</div>"
      ],
      "text/plain": [
       "              user_id     conversion           test\n",
       "count   453321.000000  453321.000000  453321.000000\n",
       "mean    499937.514728       0.049579       0.476446\n",
       "std     288665.193436       0.217073       0.499445\n",
       "min          1.000000       0.000000       0.000000\n",
       "25%     249816.000000       0.000000       0.000000\n",
       "50%     500019.000000       0.000000       0.000000\n",
       "75%     749522.000000       0.000000       1.000000\n",
       "max    1000000.000000       1.000000       1.000000"
      ]
     },
     "execution_count": 6,
     "metadata": {},
     "output_type": "execute_result"
    }
   ],
   "source": [
    "df_test.describe()"
   ]
  },
  {
   "cell_type": "code",
   "execution_count": 7,
   "id": "4b373619",
   "metadata": {},
   "outputs": [],
   "source": [
    "#### Is the result date related? In certain time period, conversion rate is higher? When is experiment performed?\n",
    "#### Source, device, ad_channle, browser have something to do with conversion rate?\n",
    "#### date has 5 unique values ['2015-12-03', '2015-12-04', '2015-11-30', '2015-12-01','2015-12-02'], mostly from \"2015-12-04\" \n",
    "#### Language has ES, EN and Other, need to filter fro \"ES\" only"
   ]
  },
  {
   "cell_type": "code",
   "execution_count": 8,
   "id": "9d87a28a",
   "metadata": {},
   "outputs": [
    {
     "data": {
      "text/plain": [
       "0.05216481062839158"
      ]
     },
     "execution_count": 8,
     "metadata": {},
     "output_type": "execute_result"
    }
   ],
   "source": [
    "22475 / 430846\n",
    "#### Conversion rate is 0.0522\n",
    "#### Control / Treatment roughly same"
   ]
  },
  {
   "cell_type": "code",
   "execution_count": 9,
   "id": "c04dadb6",
   "metadata": {},
   "outputs": [
    {
     "data": {
      "text/plain": [
       "array(['2015-12-03', '2015-12-04', '2015-11-30', '2015-12-01',\n",
       "       '2015-12-02'], dtype=object)"
      ]
     },
     "execution_count": 9,
     "metadata": {},
     "output_type": "execute_result"
    }
   ],
   "source": [
    "df_test.date.unique()"
   ]
  },
  {
   "cell_type": "code",
   "execution_count": 10,
   "id": "a7f0cf4c",
   "metadata": {},
   "outputs": [
    {
     "name": "stdout",
     "output_type": "stream",
     "text": [
      "col user_id\n",
      "315281    1\n",
      "281192    1\n",
      "829380    1\n",
      "837823    1\n",
      "631688    1\n",
      "         ..\n",
      "167264    1\n",
      "583198    1\n",
      "662755    1\n",
      "642244    1\n",
      "241662    1\n",
      "Name: user_id, Length: 453321, dtype: int64\n",
      "col date\n",
      "2015-12-04    141163\n",
      "2015-12-03     99493\n",
      "2015-11-30     71025\n",
      "2015-12-01     70991\n",
      "2015-12-02     70649\n",
      "Name: date, dtype: int64\n",
      "col source\n",
      "Ads       181877\n",
      "SEO       180610\n",
      "Direct     90834\n",
      "Name: source, dtype: int64\n",
      "col device\n",
      "Web       251565\n",
      "Mobile    201756\n",
      "Name: device, dtype: int64\n",
      "col browser_language\n",
      "ES       377547\n",
      "EN        63137\n",
      "Other     12637\n",
      "Name: browser_language, dtype: int64\n",
      "col ads_channel\n",
      "Facebook    68425\n",
      "Google      68180\n",
      "Yahoo       27435\n",
      "Bing        13689\n",
      "Other        4148\n",
      "Name: ads_channel, dtype: int64\n",
      "col browser\n",
      "Android_App    155135\n",
      "Chrome         101929\n",
      "IE              61715\n",
      "Iphone_App      46621\n",
      "Safari          41065\n",
      "FireFox         40766\n",
      "Opera            6090\n",
      "Name: browser, dtype: int64\n",
      "col conversion\n",
      "0    430846\n",
      "1     22475\n",
      "Name: conversion, dtype: int64\n",
      "col test\n",
      "0    237338\n",
      "1    215983\n",
      "Name: test, dtype: int64\n"
     ]
    }
   ],
   "source": [
    "for col in df_test.columns:\n",
    "    print(\"col\", col)\n",
    "    print(df_test[col].value_counts())"
   ]
  },
  {
   "cell_type": "code",
   "execution_count": 11,
   "id": "53c6c370",
   "metadata": {},
   "outputs": [
    {
     "data": {
      "text/html": [
       "<div>\n",
       "<style scoped>\n",
       "    .dataframe tbody tr th:only-of-type {\n",
       "        vertical-align: middle;\n",
       "    }\n",
       "\n",
       "    .dataframe tbody tr th {\n",
       "        vertical-align: top;\n",
       "    }\n",
       "\n",
       "    .dataframe thead th {\n",
       "        text-align: right;\n",
       "    }\n",
       "</style>\n",
       "<table border=\"1\" class=\"dataframe\">\n",
       "  <thead>\n",
       "    <tr style=\"text-align: right;\">\n",
       "      <th></th>\n",
       "      <th>user_id</th>\n",
       "      <th>sex</th>\n",
       "      <th>age</th>\n",
       "      <th>country</th>\n",
       "    </tr>\n",
       "  </thead>\n",
       "  <tbody>\n",
       "    <tr>\n",
       "      <th>0</th>\n",
       "      <td>765821</td>\n",
       "      <td>M</td>\n",
       "      <td>20</td>\n",
       "      <td>Mexico</td>\n",
       "    </tr>\n",
       "    <tr>\n",
       "      <th>1</th>\n",
       "      <td>343561</td>\n",
       "      <td>F</td>\n",
       "      <td>27</td>\n",
       "      <td>Nicaragua</td>\n",
       "    </tr>\n",
       "    <tr>\n",
       "      <th>2</th>\n",
       "      <td>118744</td>\n",
       "      <td>M</td>\n",
       "      <td>23</td>\n",
       "      <td>Colombia</td>\n",
       "    </tr>\n",
       "    <tr>\n",
       "      <th>3</th>\n",
       "      <td>987753</td>\n",
       "      <td>F</td>\n",
       "      <td>27</td>\n",
       "      <td>Venezuela</td>\n",
       "    </tr>\n",
       "    <tr>\n",
       "      <th>4</th>\n",
       "      <td>554597</td>\n",
       "      <td>F</td>\n",
       "      <td>20</td>\n",
       "      <td>Spain</td>\n",
       "    </tr>\n",
       "  </tbody>\n",
       "</table>\n",
       "</div>"
      ],
      "text/plain": [
       "   user_id sex  age    country\n",
       "0   765821   M   20     Mexico\n",
       "1   343561   F   27  Nicaragua\n",
       "2   118744   M   23   Colombia\n",
       "3   987753   F   27  Venezuela\n",
       "4   554597   F   20      Spain"
      ]
     },
     "execution_count": 11,
     "metadata": {},
     "output_type": "execute_result"
    }
   ],
   "source": [
    "df_user.head()"
   ]
  },
  {
   "cell_type": "code",
   "execution_count": 12,
   "id": "b5891e2f",
   "metadata": {},
   "outputs": [
    {
     "data": {
      "text/html": [
       "<div>\n",
       "<style scoped>\n",
       "    .dataframe tbody tr th:only-of-type {\n",
       "        vertical-align: middle;\n",
       "    }\n",
       "\n",
       "    .dataframe tbody tr th {\n",
       "        vertical-align: top;\n",
       "    }\n",
       "\n",
       "    .dataframe thead th {\n",
       "        text-align: right;\n",
       "    }\n",
       "</style>\n",
       "<table border=\"1\" class=\"dataframe\">\n",
       "  <thead>\n",
       "    <tr style=\"text-align: right;\">\n",
       "      <th></th>\n",
       "      <th>user_id</th>\n",
       "      <th>age</th>\n",
       "    </tr>\n",
       "  </thead>\n",
       "  <tbody>\n",
       "    <tr>\n",
       "      <th>count</th>\n",
       "      <td>452867.000000</td>\n",
       "      <td>452867.000000</td>\n",
       "    </tr>\n",
       "    <tr>\n",
       "      <th>mean</th>\n",
       "      <td>499944.805166</td>\n",
       "      <td>27.130740</td>\n",
       "    </tr>\n",
       "    <tr>\n",
       "      <th>std</th>\n",
       "      <td>288676.264784</td>\n",
       "      <td>6.776678</td>\n",
       "    </tr>\n",
       "    <tr>\n",
       "      <th>min</th>\n",
       "      <td>1.000000</td>\n",
       "      <td>18.000000</td>\n",
       "    </tr>\n",
       "    <tr>\n",
       "      <th>25%</th>\n",
       "      <td>249819.000000</td>\n",
       "      <td>22.000000</td>\n",
       "    </tr>\n",
       "    <tr>\n",
       "      <th>50%</th>\n",
       "      <td>500019.000000</td>\n",
       "      <td>26.000000</td>\n",
       "    </tr>\n",
       "    <tr>\n",
       "      <th>75%</th>\n",
       "      <td>749543.000000</td>\n",
       "      <td>31.000000</td>\n",
       "    </tr>\n",
       "    <tr>\n",
       "      <th>max</th>\n",
       "      <td>1000000.000000</td>\n",
       "      <td>70.000000</td>\n",
       "    </tr>\n",
       "  </tbody>\n",
       "</table>\n",
       "</div>"
      ],
      "text/plain": [
       "              user_id            age\n",
       "count   452867.000000  452867.000000\n",
       "mean    499944.805166      27.130740\n",
       "std     288676.264784       6.776678\n",
       "min          1.000000      18.000000\n",
       "25%     249819.000000      22.000000\n",
       "50%     500019.000000      26.000000\n",
       "75%     749543.000000      31.000000\n",
       "max    1000000.000000      70.000000"
      ]
     },
     "execution_count": 12,
     "metadata": {},
     "output_type": "execute_result"
    }
   ],
   "source": [
    "df_user.describe()"
   ]
  },
  {
   "cell_type": "markdown",
   "id": "2b673b55",
   "metadata": {},
   "source": [
    "### Note: to limit the A/B test result to users with browser_language as ES and exclude spain"
   ]
  },
  {
   "cell_type": "code",
   "execution_count": 13,
   "id": "f0ede8c2",
   "metadata": {},
   "outputs": [
    {
     "name": "stdout",
     "output_type": "stream",
     "text": [
      "col user_id\n",
      "765821    1\n",
      "185140    1\n",
      "125374    1\n",
      "995789    1\n",
      "160374    1\n",
      "         ..\n",
      "131578    1\n",
      "660609    1\n",
      "323863    1\n",
      "125665    1\n",
      "314649    1\n",
      "Name: user_id, Length: 452867, dtype: int64\n",
      "col sex\n",
      "M    264485\n",
      "F    188382\n",
      "Name: sex, dtype: int64\n",
      "col age\n",
      "21    27601\n",
      "22    27287\n",
      "23    27064\n",
      "20    27046\n",
      "24    26805\n",
      "19    26714\n",
      "25    26091\n",
      "18    25907\n",
      "26    24975\n",
      "27    23717\n",
      "28    22134\n",
      "29    20712\n",
      "30    19319\n",
      "31    17680\n",
      "32    16109\n",
      "33    14211\n",
      "34    12630\n",
      "35    11236\n",
      "36     9603\n",
      "37     8172\n",
      "38     7214\n",
      "39     5816\n",
      "40     4984\n",
      "41     4129\n",
      "42     3376\n",
      "43     2687\n",
      "44     2155\n",
      "45     1760\n",
      "46     1388\n",
      "47     1057\n",
      "48      860\n",
      "49      637\n",
      "50      494\n",
      "51      358\n",
      "52      267\n",
      "53      229\n",
      "54      130\n",
      "55      109\n",
      "56       58\n",
      "57       51\n",
      "58       30\n",
      "60       21\n",
      "59       14\n",
      "61       11\n",
      "63        6\n",
      "62        5\n",
      "65        2\n",
      "64        2\n",
      "70        1\n",
      "68        1\n",
      "67        1\n",
      "66        1\n",
      "Name: age, dtype: int64\n",
      "col country\n",
      "Mexico         128484\n",
      "Colombia        54060\n",
      "Spain           51782\n",
      "Argentina       46733\n",
      "Peru            33666\n",
      "Venezuela       32054\n",
      "Chile           19737\n",
      "Ecuador         15895\n",
      "Guatemala       15125\n",
      "Bolivia         11124\n",
      "Honduras         8568\n",
      "El Salvador      8175\n",
      "Paraguay         7347\n",
      "Nicaragua        6723\n",
      "Costa Rica       5309\n",
      "Uruguay          4134\n",
      "Panama           3951\n",
      "Name: country, dtype: int64\n"
     ]
    }
   ],
   "source": [
    "for col in df_user.columns:\n",
    "    print(\"col\", col)\n",
    "    print(df_user[col].value_counts())"
   ]
  },
  {
   "cell_type": "markdown",
   "id": "db75d335",
   "metadata": {},
   "source": [
    "## STEP1 : merge the two tables"
   ]
  },
  {
   "cell_type": "code",
   "execution_count": 16,
   "id": "5e9d5c79",
   "metadata": {},
   "outputs": [
    {
     "name": "stdout",
     "output_type": "stream",
     "text": [
      "df_test.shape (453321, 9) df_user (452867, 4)\n"
     ]
    }
   ],
   "source": [
    "df = df_test.merge(df_user, on='user_id', how='left')\n",
    "\n",
    "print(\"df_test.shape\", df_test.shape, \"df_user\", df_user.shape)"
   ]
  },
  {
   "cell_type": "code",
   "execution_count": 17,
   "id": "4d0013f1",
   "metadata": {},
   "outputs": [
    {
     "data": {
      "text/html": [
       "<div>\n",
       "<style scoped>\n",
       "    .dataframe tbody tr th:only-of-type {\n",
       "        vertical-align: middle;\n",
       "    }\n",
       "\n",
       "    .dataframe tbody tr th {\n",
       "        vertical-align: top;\n",
       "    }\n",
       "\n",
       "    .dataframe thead th {\n",
       "        text-align: right;\n",
       "    }\n",
       "</style>\n",
       "<table border=\"1\" class=\"dataframe\">\n",
       "  <thead>\n",
       "    <tr style=\"text-align: right;\">\n",
       "      <th></th>\n",
       "      <th>user_id</th>\n",
       "      <th>date</th>\n",
       "      <th>source</th>\n",
       "      <th>device</th>\n",
       "      <th>browser_language</th>\n",
       "      <th>ads_channel</th>\n",
       "      <th>browser</th>\n",
       "      <th>conversion</th>\n",
       "      <th>test</th>\n",
       "      <th>sex</th>\n",
       "      <th>age</th>\n",
       "      <th>country</th>\n",
       "    </tr>\n",
       "  </thead>\n",
       "  <tbody>\n",
       "    <tr>\n",
       "      <th>0</th>\n",
       "      <td>315281</td>\n",
       "      <td>2015-12-03</td>\n",
       "      <td>Direct</td>\n",
       "      <td>Web</td>\n",
       "      <td>ES</td>\n",
       "      <td>NaN</td>\n",
       "      <td>IE</td>\n",
       "      <td>1</td>\n",
       "      <td>0</td>\n",
       "      <td>M</td>\n",
       "      <td>32.0</td>\n",
       "      <td>Spain</td>\n",
       "    </tr>\n",
       "    <tr>\n",
       "      <th>1</th>\n",
       "      <td>497851</td>\n",
       "      <td>2015-12-04</td>\n",
       "      <td>Ads</td>\n",
       "      <td>Web</td>\n",
       "      <td>ES</td>\n",
       "      <td>Google</td>\n",
       "      <td>IE</td>\n",
       "      <td>0</td>\n",
       "      <td>1</td>\n",
       "      <td>M</td>\n",
       "      <td>21.0</td>\n",
       "      <td>Mexico</td>\n",
       "    </tr>\n",
       "    <tr>\n",
       "      <th>2</th>\n",
       "      <td>848402</td>\n",
       "      <td>2015-12-04</td>\n",
       "      <td>Ads</td>\n",
       "      <td>Web</td>\n",
       "      <td>ES</td>\n",
       "      <td>Facebook</td>\n",
       "      <td>Chrome</td>\n",
       "      <td>0</td>\n",
       "      <td>0</td>\n",
       "      <td>M</td>\n",
       "      <td>34.0</td>\n",
       "      <td>Spain</td>\n",
       "    </tr>\n",
       "    <tr>\n",
       "      <th>3</th>\n",
       "      <td>290051</td>\n",
       "      <td>2015-12-03</td>\n",
       "      <td>Ads</td>\n",
       "      <td>Mobile</td>\n",
       "      <td>Other</td>\n",
       "      <td>Facebook</td>\n",
       "      <td>Android_App</td>\n",
       "      <td>0</td>\n",
       "      <td>1</td>\n",
       "      <td>F</td>\n",
       "      <td>22.0</td>\n",
       "      <td>Mexico</td>\n",
       "    </tr>\n",
       "    <tr>\n",
       "      <th>4</th>\n",
       "      <td>548435</td>\n",
       "      <td>2015-11-30</td>\n",
       "      <td>Ads</td>\n",
       "      <td>Web</td>\n",
       "      <td>ES</td>\n",
       "      <td>Google</td>\n",
       "      <td>FireFox</td>\n",
       "      <td>0</td>\n",
       "      <td>1</td>\n",
       "      <td>M</td>\n",
       "      <td>19.0</td>\n",
       "      <td>Mexico</td>\n",
       "    </tr>\n",
       "  </tbody>\n",
       "</table>\n",
       "</div>"
      ],
      "text/plain": [
       "   user_id        date  source  device browser_language ads_channel  \\\n",
       "0   315281  2015-12-03  Direct     Web               ES         NaN   \n",
       "1   497851  2015-12-04     Ads     Web               ES      Google   \n",
       "2   848402  2015-12-04     Ads     Web               ES    Facebook   \n",
       "3   290051  2015-12-03     Ads  Mobile            Other    Facebook   \n",
       "4   548435  2015-11-30     Ads     Web               ES      Google   \n",
       "\n",
       "       browser  conversion  test sex   age country  \n",
       "0           IE           1     0   M  32.0   Spain  \n",
       "1           IE           0     1   M  21.0  Mexico  \n",
       "2       Chrome           0     0   M  34.0   Spain  \n",
       "3  Android_App           0     1   F  22.0  Mexico  \n",
       "4      FireFox           0     1   M  19.0  Mexico  "
      ]
     },
     "execution_count": 17,
     "metadata": {},
     "output_type": "execute_result"
    }
   ],
   "source": [
    "df.head()"
   ]
  },
  {
   "cell_type": "code",
   "execution_count": 26,
   "id": "90386d2c",
   "metadata": {},
   "outputs": [],
   "source": [
    "df_conversion_rate_by_country_and_test = \\\n",
    "df.groupby(['country', 'test'])['conversion'].agg(['sum','count']).reset_index()\n",
    "df_conversion_rate_by_country_and_test.columns = ['country', 'test', 'conversion', 'total']\n",
    "df_conversion_rate_by_country_and_test['conversion_rate'] = \\\n",
    "df_conversion_rate_by_country_and_test['conversion'] / df_conversion_rate_by_country_and_test['total']"
   ]
  },
  {
   "cell_type": "code",
   "execution_count": 27,
   "id": "eb825512",
   "metadata": {},
   "outputs": [
    {
     "data": {
      "text/html": [
       "<div>\n",
       "<style scoped>\n",
       "    .dataframe tbody tr th:only-of-type {\n",
       "        vertical-align: middle;\n",
       "    }\n",
       "\n",
       "    .dataframe tbody tr th {\n",
       "        vertical-align: top;\n",
       "    }\n",
       "\n",
       "    .dataframe thead th {\n",
       "        text-align: right;\n",
       "    }\n",
       "</style>\n",
       "<table border=\"1\" class=\"dataframe\">\n",
       "  <thead>\n",
       "    <tr style=\"text-align: right;\">\n",
       "      <th></th>\n",
       "      <th>country</th>\n",
       "      <th>test</th>\n",
       "      <th>conversion</th>\n",
       "      <th>total</th>\n",
       "      <th>conversion_rate</th>\n",
       "    </tr>\n",
       "  </thead>\n",
       "  <tbody>\n",
       "    <tr>\n",
       "      <th>0</th>\n",
       "      <td>Argentina</td>\n",
       "      <td>0</td>\n",
       "      <td>141</td>\n",
       "      <td>9356</td>\n",
       "      <td>0.015071</td>\n",
       "    </tr>\n",
       "    <tr>\n",
       "      <th>1</th>\n",
       "      <td>Argentina</td>\n",
       "      <td>1</td>\n",
       "      <td>513</td>\n",
       "      <td>37377</td>\n",
       "      <td>0.013725</td>\n",
       "    </tr>\n",
       "    <tr>\n",
       "      <th>2</th>\n",
       "      <td>Bolivia</td>\n",
       "      <td>0</td>\n",
       "      <td>274</td>\n",
       "      <td>5550</td>\n",
       "      <td>0.049369</td>\n",
       "    </tr>\n",
       "    <tr>\n",
       "      <th>3</th>\n",
       "      <td>Bolivia</td>\n",
       "      <td>1</td>\n",
       "      <td>267</td>\n",
       "      <td>5574</td>\n",
       "      <td>0.047901</td>\n",
       "    </tr>\n",
       "    <tr>\n",
       "      <th>4</th>\n",
       "      <td>Chile</td>\n",
       "      <td>0</td>\n",
       "      <td>474</td>\n",
       "      <td>9853</td>\n",
       "      <td>0.048107</td>\n",
       "    </tr>\n",
       "  </tbody>\n",
       "</table>\n",
       "</div>"
      ],
      "text/plain": [
       "     country  test  conversion  total  conversion_rate\n",
       "0  Argentina     0         141   9356         0.015071\n",
       "1  Argentina     1         513  37377         0.013725\n",
       "2    Bolivia     0         274   5550         0.049369\n",
       "3    Bolivia     1         267   5574         0.047901\n",
       "4      Chile     0         474   9853         0.048107"
      ]
     },
     "execution_count": 27,
     "metadata": {},
     "output_type": "execute_result"
    }
   ],
   "source": [
    "df_conversion_rate_by_country_and_test.head()"
   ]
  },
  {
   "cell_type": "code",
   "execution_count": 39,
   "id": "5a7ecfdf",
   "metadata": {},
   "outputs": [
    {
     "data": {
      "text/plain": [
       "[None,\n",
       " None,\n",
       " None,\n",
       " None,\n",
       " None,\n",
       " None,\n",
       " None,\n",
       " None,\n",
       " None,\n",
       " None,\n",
       " None,\n",
       " None,\n",
       " None,\n",
       " None,\n",
       " None,\n",
       " None,\n",
       " None,\n",
       " None,\n",
       " None,\n",
       " None,\n",
       " None,\n",
       " None,\n",
       " None,\n",
       " None,\n",
       " None,\n",
       " None,\n",
       " None,\n",
       " None,\n",
       " None,\n",
       " None,\n",
       " None,\n",
       " None,\n",
       " None,\n",
       " None]"
      ]
     },
     "execution_count": 39,
     "metadata": {},
     "output_type": "execute_result"
    },
    {
     "data": {
      "image/png": "[encoded data removed]",
      "text/plain": [
       "<Figure size 1080x576 with 1 Axes>"
      ]
     },
     "metadata": {
      "needs_background": "light"
     },
     "output_type": "display_data"
    }
   ],
   "source": [
    "plt.figure(figsize=(15,8))\n",
    "plot = sns.barplot(x = 'country', y = 'conversion_rate', \\\n",
    "                   data=df_conversion_rate_by_country_and_test, hue='test')\n",
    "locs, labels = plt.xticks()\n",
    "plt.setp(labels, rotation=45)"
   ]
  },
  {
   "cell_type": "markdown",
   "id": "4135af3d",
   "metadata": {},
   "source": [
    "#### Conversion rate is very country specific\n",
    "#### Need to check if the split for some segment of users more likely to end up in test or in control "
   ]
  },
  {
   "cell_type": "code",
   "execution_count": 50,
   "id": "bab35f6c",
   "metadata": {},
   "outputs": [
    {
     "data": {
      "text/plain": [
       "True"
      ]
     },
     "execution_count": 50,
     "metadata": {},
     "output_type": "execute_result"
    }
   ],
   "source": [
    "df.isnull().values.any()"
   ]
  },
  {
   "cell_type": "code",
   "execution_count": 51,
   "id": "afd8c382",
   "metadata": {},
   "outputs": [
    {
     "data": {
      "text/plain": [
       "user_id                  0\n",
       "date                     0\n",
       "source                   0\n",
       "device                   0\n",
       "browser_language         0\n",
       "ads_channel         271444\n",
       "browser                  0\n",
       "conversion               0\n",
       "test                     0\n",
       "sex                    454\n",
       "age                    454\n",
       "country                454\n",
       "dtype: int64"
      ]
     },
     "execution_count": 51,
     "metadata": {},
     "output_type": "execute_result"
    }
   ],
   "source": [
    "df.isnull().sum()"
   ]
  },
  {
   "cell_type": "code",
   "execution_count": 57,
   "id": "9f995050",
   "metadata": {},
   "outputs": [
    {
     "name": "stdout",
     "output_type": "stream",
     "text": [
      "country treatment_proportion control_proportion\n",
      "Spain 0.0 1.0\n",
      "Mexico 0.50026 0.49974\n",
      "Venezuela 0.49619 0.50381\n",
      "Bolivia 0.50108 0.49892\n",
      "Colombia 0.49893 0.50107\n",
      "Uruguay 0.89961 0.10039\n",
      "El Salvador 0.49749 0.50251\n",
      "Nicaragua 0.49145 0.50855\n",
      "Peru 0.49893 0.50107\n",
      "Costa Rica 0.49896 0.50104\n",
      "Chile 0.50079 0.49921\n",
      "Argentina 0.7998 0.2002\n",
      "Ecuador 0.49443 0.50557\n",
      "Guatemala 0.49607 0.50393\n",
      "Honduras 0.49101 0.50899\n",
      "Paraguay 0.5032 0.4968\n",
      "Panama 0.5024 0.4976\n"
     ]
    }
   ],
   "source": [
    "df = df[df['country']!='nan']\n",
    "print(\"country\", \"treatment_proportion\", \"control_proportion\")\n",
    "for country in df['country'].unique():\n",
    "    total_count = df[df['country']==country].shape[0]\n",
    "    if total_count != 0:\n",
    "        tmt_count = df[(df['country']==country) & (df['test']==1)].shape[0]\n",
    "        ctl_count = df[(df['country']==country) & (df['test']==0)].shape[0]\n",
    "        tmt_ratio = round(tmt_count/total_count, 5)\n",
    "        ctl_ratio = round(ctl_count/total_count, 5)\n",
    "        print(country, tmt_ratio, ctl_ratio)"
   ]
  },
  {
   "cell_type": "markdown",
   "id": "b155b3ea",
   "metadata": {},
   "source": [
    "### Outliers in control/treatment splitting\n",
    "### These imbalanced sampling will bias the A/B testing result\n",
    "#### Uruguay 0.89961 0.10039\n",
    "#### Argentina 0.7998 0.2002"
   ]
  },
  {
   "cell_type": "markdown",
   "id": "4fbb0769",
   "metadata": {},
   "source": [
    "## STEP 2: Sanity check"
   ]
  },
  {
   "cell_type": "markdown",
   "id": "080f633d",
   "metadata": {},
   "source": [
    "### STEP 2.1 mixed assignment\n",
    "### Whether same user assigned to both groups"
   ]
  },
  {
   "cell_type": "code",
   "execution_count": 58,
   "id": "37f9f81f",
   "metadata": {},
   "outputs": [],
   "source": [
    "def check_mixed_assignment(df):\n",
    "    # check the no. of users who have been assigned to multiple groups\n",
    "    df1 = df[['user_id', 'test']].groupby(['user_id']).nunique().reset_index()\n",
    "    print(df1.head())\n",
    "    df2 = df1[df1['test']>1]['user_id'].count()\n",
    "    print(df.shape, df2.shape)\n",
    "    print(df2)"
   ]
  },
  {
   "cell_type": "code",
   "execution_count": 59,
   "id": "f1b83e04",
   "metadata": {},
   "outputs": [
    {
     "name": "stdout",
     "output_type": "stream",
     "text": [
      "   user_id  test\n",
      "0        1     1\n",
      "1        2     1\n",
      "2        3     1\n",
      "3        5     1\n",
      "4        8     1\n",
      "(453321, 12) ()\n",
      "0\n"
     ]
    }
   ],
   "source": [
    "check_mixed_assignment(df)"
   ]
  },
  {
   "cell_type": "code",
   "execution_count": 32,
   "id": "44fe82f8",
   "metadata": {},
   "outputs": [],
   "source": [
    "def remove_mixed_assignment(df):\n",
    "    # remove user_id that have been assigned multiple groups\n",
    "    df1 = df[['user_id', 'test']].group['user_id'].nunique().reset_index()\n",
    "    df2 = pd.merge(df, df1, on=['user_id'], how='left')\n",
    "    return df2[df2['group_y']==1]"
   ]
  },
  {
   "cell_type": "markdown",
   "id": "b00c7aa2",
   "metadata": {},
   "source": [
    "### STEP 2.2 check multiple data points\n",
    "#### whether one user_id has multiple lines, if yes, merge"
   ]
  },
  {
   "cell_type": "code",
   "execution_count": 60,
   "id": "e9be8984",
   "metadata": {},
   "outputs": [
    {
     "name": "stdout",
     "output_type": "stream",
     "text": [
      "0\n"
     ]
    }
   ],
   "source": [
    "def check_multiple_exposure(df):\n",
    "    df1 = df[['user_id', 'test']].groupby(['user_id']).count().reset_index()\n",
    "    df2_count = df1[df1['test']>1]['user_id'].count()\n",
    "    print(df2_count)\n",
    "\n",
    "check_multiple_exposure(df)   "
   ]
  },
  {
   "cell_type": "markdown",
   "id": "01aaeeff",
   "metadata": {},
   "source": [
    "### STEP 2.3 check sampling bias\n",
    "#### Check if thre sampling is random"
   ]
  },
  {
   "cell_type": "code",
   "execution_count": 61,
   "id": "9e89ffde",
   "metadata": {},
   "outputs": [
    {
     "data": {
      "text/html": [
       "<div>\n",
       "<style scoped>\n",
       "    .dataframe tbody tr th:only-of-type {\n",
       "        vertical-align: middle;\n",
       "    }\n",
       "\n",
       "    .dataframe tbody tr th {\n",
       "        vertical-align: top;\n",
       "    }\n",
       "\n",
       "    .dataframe thead th {\n",
       "        text-align: right;\n",
       "    }\n",
       "</style>\n",
       "<table border=\"1\" class=\"dataframe\">\n",
       "  <thead>\n",
       "    <tr style=\"text-align: right;\">\n",
       "      <th></th>\n",
       "      <th>user_id</th>\n",
       "      <th>date</th>\n",
       "      <th>source</th>\n",
       "      <th>device</th>\n",
       "      <th>browser_language</th>\n",
       "      <th>ads_channel</th>\n",
       "      <th>browser</th>\n",
       "      <th>conversion</th>\n",
       "      <th>test</th>\n",
       "      <th>sex</th>\n",
       "      <th>age</th>\n",
       "      <th>country</th>\n",
       "    </tr>\n",
       "  </thead>\n",
       "  <tbody>\n",
       "    <tr>\n",
       "      <th>0</th>\n",
       "      <td>315281</td>\n",
       "      <td>2015-12-03</td>\n",
       "      <td>Direct</td>\n",
       "      <td>Web</td>\n",
       "      <td>ES</td>\n",
       "      <td>NaN</td>\n",
       "      <td>IE</td>\n",
       "      <td>1</td>\n",
       "      <td>0</td>\n",
       "      <td>M</td>\n",
       "      <td>32.0</td>\n",
       "      <td>Spain</td>\n",
       "    </tr>\n",
       "    <tr>\n",
       "      <th>1</th>\n",
       "      <td>497851</td>\n",
       "      <td>2015-12-04</td>\n",
       "      <td>Ads</td>\n",
       "      <td>Web</td>\n",
       "      <td>ES</td>\n",
       "      <td>Google</td>\n",
       "      <td>IE</td>\n",
       "      <td>0</td>\n",
       "      <td>1</td>\n",
       "      <td>M</td>\n",
       "      <td>21.0</td>\n",
       "      <td>Mexico</td>\n",
       "    </tr>\n",
       "    <tr>\n",
       "      <th>2</th>\n",
       "      <td>848402</td>\n",
       "      <td>2015-12-04</td>\n",
       "      <td>Ads</td>\n",
       "      <td>Web</td>\n",
       "      <td>ES</td>\n",
       "      <td>Facebook</td>\n",
       "      <td>Chrome</td>\n",
       "      <td>0</td>\n",
       "      <td>0</td>\n",
       "      <td>M</td>\n",
       "      <td>34.0</td>\n",
       "      <td>Spain</td>\n",
       "    </tr>\n",
       "    <tr>\n",
       "      <th>3</th>\n",
       "      <td>290051</td>\n",
       "      <td>2015-12-03</td>\n",
       "      <td>Ads</td>\n",
       "      <td>Mobile</td>\n",
       "      <td>Other</td>\n",
       "      <td>Facebook</td>\n",
       "      <td>Android_App</td>\n",
       "      <td>0</td>\n",
       "      <td>1</td>\n",
       "      <td>F</td>\n",
       "      <td>22.0</td>\n",
       "      <td>Mexico</td>\n",
       "    </tr>\n",
       "    <tr>\n",
       "      <th>4</th>\n",
       "      <td>548435</td>\n",
       "      <td>2015-11-30</td>\n",
       "      <td>Ads</td>\n",
       "      <td>Web</td>\n",
       "      <td>ES</td>\n",
       "      <td>Google</td>\n",
       "      <td>FireFox</td>\n",
       "      <td>0</td>\n",
       "      <td>1</td>\n",
       "      <td>M</td>\n",
       "      <td>19.0</td>\n",
       "      <td>Mexico</td>\n",
       "    </tr>\n",
       "  </tbody>\n",
       "</table>\n",
       "</div>"
      ],
      "text/plain": [
       "   user_id        date  source  device browser_language ads_channel  \\\n",
       "0   315281  2015-12-03  Direct     Web               ES         NaN   \n",
       "1   497851  2015-12-04     Ads     Web               ES      Google   \n",
       "2   848402  2015-12-04     Ads     Web               ES    Facebook   \n",
       "3   290051  2015-12-03     Ads  Mobile            Other    Facebook   \n",
       "4   548435  2015-11-30     Ads     Web               ES      Google   \n",
       "\n",
       "       browser  conversion  test sex   age country  \n",
       "0           IE           1     0   M  32.0   Spain  \n",
       "1           IE           0     1   M  21.0  Mexico  \n",
       "2       Chrome           0     0   M  34.0   Spain  \n",
       "3  Android_App           0     1   F  22.0  Mexico  \n",
       "4      FireFox           0     1   M  19.0  Mexico  "
      ]
     },
     "execution_count": 61,
     "metadata": {},
     "output_type": "execute_result"
    }
   ],
   "source": [
    "df.head()"
   ]
  },
  {
   "cell_type": "code",
   "execution_count": 62,
   "id": "bd39ff56",
   "metadata": {},
   "outputs": [
    {
     "name": "stdout",
     "output_type": "stream",
     "text": [
      "215983 453321\n"
     ]
    }
   ],
   "source": [
    "df1 = df[['user_id', 'test']].groupby(['test']).count().reset_index()\n",
    "print(df1[df1['test']==1]['user_id'].values[0], df1['user_id'].sum())"
   ]
  },
  {
   "cell_type": "code",
   "execution_count": 63,
   "id": "cbe9930d",
   "metadata": {},
   "outputs": [],
   "source": [
    "def check_any_assignment_imbalance(df):\n",
    "    df1 = df[['user_id', 'test']].groupby(['test']).count().reset_index()\n",
    "    # count the no. of users in treament vs control\n",
    "    print(df1)\n",
    "    pvalue = stats.binom_test(df1[df1['test']==1]['user_id'].values[0], \n",
    "    n = df1['user_id'].sum(), \n",
    "    p=0.5, \n",
    "    alternative='two-sided')\n",
    "    print(pvalue)"
   ]
  },
  {
   "cell_type": "code",
   "execution_count": 64,
   "id": "39fa7e61",
   "metadata": {},
   "outputs": [
    {
     "name": "stdout",
     "output_type": "stream",
     "text": [
      "   test  user_id\n",
      "0     0   237338\n",
      "1     1   215983\n",
      "7.799436729492344e-221\n"
     ]
    },
    {
     "name": "stderr",
     "output_type": "stream",
     "text": [
      "/Users/huangz36/miniconda3/lib/python3.9/site-packages/scipy/stats/_discrete_distns.py:67: RuntimeWarning: divide by zero encountered in _binom_pdf\n",
      "  return _boost._binom_pdf(x, n, p)\n"
     ]
    }
   ],
   "source": [
    "check_any_assignment_imbalance(df)"
   ]
  },
  {
   "cell_type": "markdown",
   "id": "bf4ae4cf",
   "metadata": {},
   "source": [
    "#### Assignment imbalance did happen with the original df, without limiting to language"
   ]
  },
  {
   "cell_type": "code",
   "execution_count": 65,
   "id": "08302330",
   "metadata": {},
   "outputs": [
    {
     "name": "stdout",
     "output_type": "stream",
     "text": [
      "(453321, 12) (377547, 12) (334401, 12)\n"
     ]
    }
   ],
   "source": [
    "df_ES = df[df['browser_language']=='ES']\n",
    "df_ES_NonSpain = df_ES[df_ES['country']!='Spain']\n",
    "print(df.shape, df_ES.shape, df_ES_NonSpain.shape)"
   ]
  },
  {
   "cell_type": "code",
   "execution_count": 66,
   "id": "3869d0db",
   "metadata": {},
   "outputs": [
    {
     "name": "stdout",
     "output_type": "stream",
     "text": [
      "   test  user_id\n",
      "0     0   154627\n",
      "1     1   179774\n",
      "2.5e-323\n"
     ]
    },
    {
     "name": "stderr",
     "output_type": "stream",
     "text": [
      "/Users/huangz36/miniconda3/lib/python3.9/site-packages/scipy/stats/_discrete_distns.py:67: RuntimeWarning: divide by zero encountered in _binom_pdf\n",
      "  return _boost._binom_pdf(x, n, p)\n"
     ]
    }
   ],
   "source": [
    "#### Now check assignment imbalance within the df_ES_NonSpain\n",
    "check_any_assignment_imbalance(df_ES_NonSpain)"
   ]
  },
  {
   "cell_type": "markdown",
   "id": "ea2b6a1a",
   "metadata": {},
   "source": [
    "### Assignment imbalance is significant"
   ]
  },
  {
   "cell_type": "markdown",
   "id": "60316597",
   "metadata": {},
   "source": [
    "### STEP 3: Start the experiment with statistical inference"
   ]
  },
  {
   "cell_type": "code",
   "execution_count": 67,
   "id": "80814241",
   "metadata": {},
   "outputs": [
    {
     "data": {
      "text/html": [
       "<div>\n",
       "<style scoped>\n",
       "    .dataframe tbody tr th:only-of-type {\n",
       "        vertical-align: middle;\n",
       "    }\n",
       "\n",
       "    .dataframe tbody tr th {\n",
       "        vertical-align: top;\n",
       "    }\n",
       "\n",
       "    .dataframe thead th {\n",
       "        text-align: right;\n",
       "    }\n",
       "</style>\n",
       "<table border=\"1\" class=\"dataframe\">\n",
       "  <thead>\n",
       "    <tr style=\"text-align: right;\">\n",
       "      <th></th>\n",
       "      <th>user_id</th>\n",
       "      <th>date</th>\n",
       "      <th>source</th>\n",
       "      <th>device</th>\n",
       "      <th>browser_language</th>\n",
       "      <th>ads_channel</th>\n",
       "      <th>browser</th>\n",
       "      <th>conversion</th>\n",
       "      <th>test</th>\n",
       "      <th>sex</th>\n",
       "      <th>age</th>\n",
       "      <th>country</th>\n",
       "    </tr>\n",
       "  </thead>\n",
       "  <tbody>\n",
       "    <tr>\n",
       "      <th>1</th>\n",
       "      <td>497851</td>\n",
       "      <td>2015-12-04</td>\n",
       "      <td>Ads</td>\n",
       "      <td>Web</td>\n",
       "      <td>ES</td>\n",
       "      <td>Google</td>\n",
       "      <td>IE</td>\n",
       "      <td>0</td>\n",
       "      <td>1</td>\n",
       "      <td>M</td>\n",
       "      <td>21.0</td>\n",
       "      <td>Mexico</td>\n",
       "    </tr>\n",
       "    <tr>\n",
       "      <th>4</th>\n",
       "      <td>548435</td>\n",
       "      <td>2015-11-30</td>\n",
       "      <td>Ads</td>\n",
       "      <td>Web</td>\n",
       "      <td>ES</td>\n",
       "      <td>Google</td>\n",
       "      <td>FireFox</td>\n",
       "      <td>0</td>\n",
       "      <td>1</td>\n",
       "      <td>M</td>\n",
       "      <td>19.0</td>\n",
       "      <td>Mexico</td>\n",
       "    </tr>\n",
       "    <tr>\n",
       "      <th>5</th>\n",
       "      <td>540675</td>\n",
       "      <td>2015-12-03</td>\n",
       "      <td>Direct</td>\n",
       "      <td>Mobile</td>\n",
       "      <td>ES</td>\n",
       "      <td>NaN</td>\n",
       "      <td>Android_App</td>\n",
       "      <td>0</td>\n",
       "      <td>1</td>\n",
       "      <td>F</td>\n",
       "      <td>22.0</td>\n",
       "      <td>Venezuela</td>\n",
       "    </tr>\n",
       "    <tr>\n",
       "      <th>8</th>\n",
       "      <td>261625</td>\n",
       "      <td>2015-12-04</td>\n",
       "      <td>Direct</td>\n",
       "      <td>Mobile</td>\n",
       "      <td>ES</td>\n",
       "      <td>NaN</td>\n",
       "      <td>Android_App</td>\n",
       "      <td>0</td>\n",
       "      <td>1</td>\n",
       "      <td>M</td>\n",
       "      <td>31.0</td>\n",
       "      <td>Bolivia</td>\n",
       "    </tr>\n",
       "    <tr>\n",
       "      <th>9</th>\n",
       "      <td>10427</td>\n",
       "      <td>2015-12-04</td>\n",
       "      <td>Ads</td>\n",
       "      <td>Mobile</td>\n",
       "      <td>ES</td>\n",
       "      <td>Facebook</td>\n",
       "      <td>Android_App</td>\n",
       "      <td>0</td>\n",
       "      <td>0</td>\n",
       "      <td>F</td>\n",
       "      <td>33.0</td>\n",
       "      <td>Mexico</td>\n",
       "    </tr>\n",
       "  </tbody>\n",
       "</table>\n",
       "</div>"
      ],
      "text/plain": [
       "   user_id        date  source  device browser_language ads_channel  \\\n",
       "1   497851  2015-12-04     Ads     Web               ES      Google   \n",
       "4   548435  2015-11-30     Ads     Web               ES      Google   \n",
       "5   540675  2015-12-03  Direct  Mobile               ES         NaN   \n",
       "8   261625  2015-12-04  Direct  Mobile               ES         NaN   \n",
       "9    10427  2015-12-04     Ads  Mobile               ES    Facebook   \n",
       "\n",
       "       browser  conversion  test sex   age    country  \n",
       "1           IE           0     1   M  21.0     Mexico  \n",
       "4      FireFox           0     1   M  19.0     Mexico  \n",
       "5  Android_App           0     1   F  22.0  Venezuela  \n",
       "8  Android_App           0     1   M  31.0    Bolivia  \n",
       "9  Android_App           0     0   F  33.0     Mexico  "
      ]
     },
     "execution_count": 67,
     "metadata": {},
     "output_type": "execute_result"
    }
   ],
   "source": [
    "df_ES_NonSpain.head()"
   ]
  },
  {
   "cell_type": "markdown",
   "id": "ea7935ca",
   "metadata": {},
   "source": [
    "#### Null Hypothesis: the conversion rate at treatment group (test=1) is same as the control group (test=0)\n",
    "##### Check: p-value and confidence interval\n",
    "##### Minimum Detectable Effect: set as 1%\n",
    "##### Metrics: Delta = (test=1 & conversion = 1) - (test=0 & conversion = 1)"
   ]
  },
  {
   "cell_type": "markdown",
   "id": "3fda31f8",
   "metadata": {},
   "source": [
    "### STEP 3.1 Get the pooled standard error of delta"
   ]
  },
  {
   "cell_type": "code",
   "execution_count": null,
   "id": "596d633f",
   "metadata": {},
   "outputs": [],
   "source": [
    "def calculate_sampling_bias_pvalue(df):\n",
    "    n_treatment = df[df['test'] == 1]['user_id'].count()\n",
    "    n_control = df[df['test'] == 0]['user_id'].count()\n",
    "    print(\"n_treatment\", n_treatment, \"n_control\", n_control)\n",
    "    \n",
    "    p_treatment = 1.0*n_treatment/(n_treatment + n_control)\n",
    "    # the probability of a user in treament to convert\n",
    "    p_control = 1.0*n_control(n_treatment + n_control)\n",
    "    \n",
    "    var_treatment = p_treatment*(1-p_treatment) # the variance of the probability of a user in treatment to convert\n",
    "    var_control = p_control*(1-p_control) # the variance of the probability of a user in treatment to convert\n",
    "    \n",
    "    p_delta = p_treatment - p_control # the delta of the probability of a user to convert in treatment vs. control\n",
    "    print(\"p_delta in %\", round(p_delta*100, 2), \"p_treatment in %\", round(p_treatment*100, 2), \"p_control in %\", round(p_control*100, 2))\n",
    "    \n",
    "    pooled_se = np.sqrt(var_treatment/n_treatment + var_control/n_control) # the pooled standard error of the t test\n",
    "    t_statistic = p_delta/pooled_se # the t statistic\n",
    "    dof = (var_treatment/n_treatment + var_control/n_control)**2\\\n",
    "    /(var_treatment**2/(n_treatment**2*(n_treatment-1)) + var_control**2/(n_control**2*(n_control-1)))\n",
    "    # the degree of freedom\n",
    "    pvalue = 2*t.cdf(-abs(t_statistic), dof) # the p value of the t test\n",
    "    print(\"p-value\", pvalue)\n",
    "    \n",
    "    lower = p_delta - t.ppf(0.975, dof)*pooled_se # the lower bound of the confidence interval\n",
    "    upper = p_delta + t.ppf(0.975, dof)*pooled_se # the upper bound of the confidence interval\n",
    "    print(\"CI in %\", round(lower*100, 2), round(upper*100, 2))\n",
    "    \n",
    "    return pvalue"
   ]
  },
  {
   "cell_type": "code",
   "execution_count": 68,
   "id": "376e608e",
   "metadata": {},
   "outputs": [],
   "source": [
    "def calculate_pvalue(df):\n",
    "    n_treatment = df[df['test'] == 1]['user_id'].count()\n",
    "    n_control = df[df['test'] == 0]['user_id'].count()\n",
    "    print(\"n_treatment\", n_treatment, \"n_control\", n_control)\n",
    "    \n",
    "    p_treatment = 1.0*df[df['test'] == 1]['conversion'].sum()/n_treatment\n",
    "    # the probability of a user in treament to convert\n",
    "    p_control = 1.0*df[df['test'] == 0]['conversion'].sum()/n_control\n",
    "    \n",
    "    var_treatment = p_treatment*(1-p_treatment) # the variance of the probability of a user in treatment to convert\n",
    "    var_control = p_control*(1-p_control) # the variance of the probability of a user in treatment to convert\n",
    "    \n",
    "    p_delta = p_treatment - p_control # the delta of the probability of a user to convert in treatment vs. control\n",
    "    print(\"p_delta in %\", round(p_delta*100, 2), \"p_treatment in %\", round(p_treatment*100, 2), \"p_control in %\", round(p_control*100, 2))\n",
    "    \n",
    "    pooled_se = np.sqrt(var_treatment/n_treatment + var_control/n_control) # the pooled standard error of the t test\n",
    "    t_statistic = p_delta/pooled_se # the t statistic\n",
    "    dof = (var_treatment/n_treatment + var_control/n_control)**2\\\n",
    "    /(var_treatment**2/(n_treatment**2*(n_treatment-1)) + var_control**2/(n_control**2*(n_control-1)))\n",
    "    # the degree of freedom\n",
    "    pvalue = 2*t.cdf(-abs(t_statistic), dof) # the p value of the t test\n",
    "    print(\"p-value\", pvalue)\n",
    "    \n",
    "    lower = p_delta - t.ppf(0.975, dof)*pooled_se # the lower bound of the confidence interval\n",
    "    upper = p_delta + t.ppf(0.975, dof)*pooled_se # the upper bound of the confidence interval\n",
    "    print(\"CI in %\", round(lower*100, 2), round(upper*100, 2))"
   ]
  },
  {
   "cell_type": "code",
   "execution_count": 69,
   "id": "bd9b87d2",
   "metadata": {},
   "outputs": [
    {
     "name": "stdout",
     "output_type": "stream",
     "text": [
      "n_treatment 179774 n_control 154627\n",
      "p_delta in % -0.51 p_treatment in % 4.35 p_control in % 4.87\n",
      "p-value 1.9909116401551033e-12\n",
      "CI in % -0.66 -0.37\n"
     ]
    }
   ],
   "source": [
    "calculate_pvalue(df_ES_NonSpain)"
   ]
  },
  {
   "cell_type": "markdown",
   "id": "e36763cf",
   "metadata": {},
   "source": [
    "### We did observe a negative trend, where the old version with one uniform translation peform better\n",
    "### p-value is significant\n",
    "### the Delta is -0.51%, depending on the set MDE. If MDE set as 1% not noticable change, however if MDE set as 0.5% then change is big enough\n",
    "### One issue is with the assignment imbalance, per binomial test, significantly more assigned to treatment group then control group"
   ]
  },
  {
   "cell_type": "code",
   "execution_count": 70,
   "id": "4e950a11",
   "metadata": {},
   "outputs": [
    {
     "data": {
      "text/html": [
       "<div>\n",
       "<style scoped>\n",
       "    .dataframe tbody tr th:only-of-type {\n",
       "        vertical-align: middle;\n",
       "    }\n",
       "\n",
       "    .dataframe tbody tr th {\n",
       "        vertical-align: top;\n",
       "    }\n",
       "\n",
       "    .dataframe thead th {\n",
       "        text-align: right;\n",
       "    }\n",
       "</style>\n",
       "<table border=\"1\" class=\"dataframe\">\n",
       "  <thead>\n",
       "    <tr style=\"text-align: right;\">\n",
       "      <th></th>\n",
       "      <th>user_id</th>\n",
       "      <th>date</th>\n",
       "      <th>source</th>\n",
       "      <th>device</th>\n",
       "      <th>browser_language</th>\n",
       "      <th>ads_channel</th>\n",
       "      <th>browser</th>\n",
       "      <th>conversion</th>\n",
       "      <th>test</th>\n",
       "      <th>sex</th>\n",
       "      <th>age</th>\n",
       "      <th>country</th>\n",
       "    </tr>\n",
       "  </thead>\n",
       "  <tbody>\n",
       "    <tr>\n",
       "      <th>1</th>\n",
       "      <td>497851</td>\n",
       "      <td>2015-12-04</td>\n",
       "      <td>Ads</td>\n",
       "      <td>Web</td>\n",
       "      <td>ES</td>\n",
       "      <td>Google</td>\n",
       "      <td>IE</td>\n",
       "      <td>0</td>\n",
       "      <td>1</td>\n",
       "      <td>M</td>\n",
       "      <td>21.0</td>\n",
       "      <td>Mexico</td>\n",
       "    </tr>\n",
       "    <tr>\n",
       "      <th>4</th>\n",
       "      <td>548435</td>\n",
       "      <td>2015-11-30</td>\n",
       "      <td>Ads</td>\n",
       "      <td>Web</td>\n",
       "      <td>ES</td>\n",
       "      <td>Google</td>\n",
       "      <td>FireFox</td>\n",
       "      <td>0</td>\n",
       "      <td>1</td>\n",
       "      <td>M</td>\n",
       "      <td>19.0</td>\n",
       "      <td>Mexico</td>\n",
       "    </tr>\n",
       "    <tr>\n",
       "      <th>5</th>\n",
       "      <td>540675</td>\n",
       "      <td>2015-12-03</td>\n",
       "      <td>Direct</td>\n",
       "      <td>Mobile</td>\n",
       "      <td>ES</td>\n",
       "      <td>NaN</td>\n",
       "      <td>Android_App</td>\n",
       "      <td>0</td>\n",
       "      <td>1</td>\n",
       "      <td>F</td>\n",
       "      <td>22.0</td>\n",
       "      <td>Venezuela</td>\n",
       "    </tr>\n",
       "    <tr>\n",
       "      <th>8</th>\n",
       "      <td>261625</td>\n",
       "      <td>2015-12-04</td>\n",
       "      <td>Direct</td>\n",
       "      <td>Mobile</td>\n",
       "      <td>ES</td>\n",
       "      <td>NaN</td>\n",
       "      <td>Android_App</td>\n",
       "      <td>0</td>\n",
       "      <td>1</td>\n",
       "      <td>M</td>\n",
       "      <td>31.0</td>\n",
       "      <td>Bolivia</td>\n",
       "    </tr>\n",
       "    <tr>\n",
       "      <th>9</th>\n",
       "      <td>10427</td>\n",
       "      <td>2015-12-04</td>\n",
       "      <td>Ads</td>\n",
       "      <td>Mobile</td>\n",
       "      <td>ES</td>\n",
       "      <td>Facebook</td>\n",
       "      <td>Android_App</td>\n",
       "      <td>0</td>\n",
       "      <td>0</td>\n",
       "      <td>F</td>\n",
       "      <td>33.0</td>\n",
       "      <td>Mexico</td>\n",
       "    </tr>\n",
       "  </tbody>\n",
       "</table>\n",
       "</div>"
      ],
      "text/plain": [
       "   user_id        date  source  device browser_language ads_channel  \\\n",
       "1   497851  2015-12-04     Ads     Web               ES      Google   \n",
       "4   548435  2015-11-30     Ads     Web               ES      Google   \n",
       "5   540675  2015-12-03  Direct  Mobile               ES         NaN   \n",
       "8   261625  2015-12-04  Direct  Mobile               ES         NaN   \n",
       "9    10427  2015-12-04     Ads  Mobile               ES    Facebook   \n",
       "\n",
       "       browser  conversion  test sex   age    country  \n",
       "1           IE           0     1   M  21.0     Mexico  \n",
       "4      FireFox           0     1   M  19.0     Mexico  \n",
       "5  Android_App           0     1   F  22.0  Venezuela  \n",
       "8  Android_App           0     1   M  31.0    Bolivia  \n",
       "9  Android_App           0     0   F  33.0     Mexico  "
      ]
     },
     "execution_count": 70,
     "metadata": {},
     "output_type": "execute_result"
    }
   ],
   "source": [
    "df_ES_NonSpain.head()"
   ]
  },
  {
   "cell_type": "markdown",
   "id": "226ab8fb",
   "metadata": {},
   "source": [
    "## Deep Dive\n",
    "#### 1. Look at assignment differences (treatment vs control) with date, source, device, ads_channel, browser, country,=\n",
    "#### 2. Look at power analysis. Do we have enough samples?\n",
    "#### 3. A/B testing split to countries"
   ]
  },
  {
   "cell_type": "code",
   "execution_count": 71,
   "id": "af1f76aa",
   "metadata": {},
   "outputs": [
    {
     "data": {
      "text/plain": [
       "<seaborn.axisgrid.FacetGrid at 0x168a05d90>"
      ]
     },
     "execution_count": 71,
     "metadata": {},
     "output_type": "execute_result"
    },
    {
     "data": {
      "image/png": "[encoded data removed]",
      "text/plain": [
       "<Figure size 452x360 with 1 Axes>"
      ]
     },
     "metadata": {
      "needs_background": "light"
     },
     "output_type": "display_data"
    }
   ],
   "source": [
    "sns.catplot(data=df_ES_NonSpain, x=\"test\", y=\"conversion\", hue=\"country\", kind=\"violin\")"
   ]
  },
  {
   "cell_type": "code",
   "execution_count": 114,
   "id": "bfd10789",
   "metadata": {},
   "outputs": [
    {
     "name": "stdout",
     "output_type": "stream",
     "text": [
      "Mexico\n",
      "Total no 107086 Treatment 53536 Control 53550\n",
      "n_treatment 53536 n_control 53550\n",
      "p_delta in % 0.1 p_treatment in % 5.09 p_control in % 5.0\n",
      "p-value 0.4703654929240487\n",
      "CI in % -0.17 0.36\n",
      "======\n",
      "Venezuela\n",
      "Total no 26733 Treatment 13245 Control 13488\n",
      "n_treatment 13245 n_control 13488\n",
      "p_delta in % -0.09 p_treatment in % 4.98 p_control in % 5.07\n",
      "p-value 0.7415162376897758\n",
      "CI in % -0.61 0.44\n",
      "======\n",
      "Bolivia\n",
      "Total no 9254 Treatment 4654 Control 4600\n",
      "n_treatment 4654 n_control 4600\n",
      "p_delta in % -0.01 p_treatment in % 4.94 p_control in % 4.96\n",
      "p-value 0.9742850025859586\n",
      "CI in % -0.9 0.87\n",
      "======\n",
      "Colombia\n",
      "Total no 44850 Treatment 22348 Control 22502\n",
      "n_treatment 22348 n_control 22502\n",
      "p_delta in % -0.19 p_treatment in % 5.1 p_control in % 5.29\n",
      "p-value 0.371496700735535\n",
      "CI in % -0.6 0.22\n",
      "======\n",
      "Uruguay\n",
      "Total no 3454 Treatment 3098 Control 356\n",
      "n_treatment 3098 n_control 356\n",
      "p_delta in % 0.25 p_treatment in % 1.1 p_control in % 0.84\n",
      "p-value 0.6239689998711373\n",
      "CI in % -0.77 1.28\n",
      "======\n",
      "El Salvador\n",
      "Total no 6775 Treatment 3355 Control 3420\n",
      "n_treatment 3355 n_control 3420\n",
      "p_delta in % -0.58 p_treatment in % 4.89 p_control in % 5.47\n",
      "p-value 0.28159041772424986\n",
      "CI in % -1.63 0.48\n",
      "======\n",
      "Nicaragua\n",
      "Total no 5636 Treatment 2767 Control 2869\n",
      "n_treatment 2767 n_control 2869\n",
      "p_delta in % 0.05 p_treatment in % 5.46 p_control in % 5.4\n",
      "p-value 0.9279601915891591\n",
      "CI in % -1.13 1.24\n",
      "======\n",
      "Peru\n",
      "Total no 28000 Treatment 14010 Control 13990\n",
      "n_treatment 14010 n_control 13990\n",
      "p_delta in % 0.11 p_treatment in % 5.05 p_control in % 4.94\n",
      "p-value 0.6806148580877787\n",
      "CI in % -0.4 0.62\n",
      "======\n",
      "Argentina\n",
      "Total no 38997 Treatment 31204 Control 7793\n",
      "n_treatment 31204 n_control 7793\n",
      "p_delta in % -0.13 p_treatment in % 1.41 p_control in % 1.54\n",
      "p-value 0.38973878596322376\n",
      "CI in % -0.44 0.17\n",
      "======\n",
      "Chile\n",
      "Total no 16433 Treatment 8171 Control 8262\n",
      "n_treatment 8171 n_control 8262\n",
      "p_delta in % 0.14 p_treatment in % 4.97 p_control in % 4.83\n",
      "p-value 0.678819416178256\n",
      "CI in % -0.52 0.8\n",
      "======\n",
      "Ecuador\n",
      "Total no 13262 Treatment 6516 Control 6746\n",
      "n_treatment 6516 n_control 6746\n",
      "p_delta in % -0.16 p_treatment in % 4.88 p_control in % 5.04\n",
      "p-value 0.6718666089793432\n",
      "CI in % -0.9 0.58\n",
      "======\n",
      "Guatemala\n",
      "Total no 12610 Treatment 6237 Control 6373\n",
      "n_treatment 6237 n_control 6373\n",
      "p_delta in % 0.14 p_treatment in % 5.13 p_control in % 4.99\n",
      "p-value 0.7182429021835983\n",
      "CI in % -0.62 0.91\n",
      "======\n",
      "Honduras\n",
      "Total no 7167 Treatment 3531 Control 3636\n",
      "n_treatment 3531 n_control 3636\n",
      "p_delta in % -0.16 p_treatment in % 4.9 p_control in % 5.06\n",
      "p-value 0.7540033201696172\n",
      "CI in % -1.17 0.85\n",
      "======\n",
      "Paraguay\n",
      "Total no 6089 Treatment 3082 Control 3007\n",
      "n_treatment 3082 n_control 3007\n",
      "p_delta in % -0.02 p_treatment in % 4.7 p_control in % 4.72\n",
      "p-value 0.9741882050095004\n",
      "CI in % -1.08 1.05\n",
      "======\n",
      "Panama\n",
      "Total no 3290 Treatment 1662 Control 1628\n",
      "n_treatment 1662 n_control 1628\n",
      "p_delta in % 0.38 p_treatment in % 5.17 p_control in % 4.79\n",
      "p-value 0.6133554848216121\n",
      "CI in % -1.1 1.87\n",
      "======\n",
      "Costa Rica\n",
      "Total no 4378 Treatment 2182 Control 2196\n",
      "n_treatment 2182 n_control 2196\n",
      "p_delta in % 0.17 p_treatment in % 5.32 p_control in % 5.15\n",
      "p-value 0.8000151556301419\n",
      "CI in % -1.15 1.49\n",
      "======\n",
      "nan\n",
      "Total no 0 Treatment 0 Control 0\n",
      "n_treatment 0 n_control 0\n",
      "p_delta in % nan p_treatment in % nan p_control in % nan\n",
      "p-value nan\n",
      "CI in % nan nan\n",
      "======\n"
     ]
    },
    {
     "name": "stderr",
     "output_type": "stream",
     "text": [
      "/var/folders/d3/n6gqzx2x2cd87p3mfy_j0q8r0000gp/T/ipykernel_14520/636246040.py:6: RuntimeWarning: invalid value encountered in double_scalars\n",
      "  p_treatment = 1.0*df[df['test'] == 1]['conversion'].sum()/n_treatment\n",
      "/var/folders/d3/n6gqzx2x2cd87p3mfy_j0q8r0000gp/T/ipykernel_14520/636246040.py:8: RuntimeWarning: invalid value encountered in double_scalars\n",
      "  p_control = 1.0*df[df['test'] == 0]['conversion'].sum()/n_control\n"
     ]
    }
   ],
   "source": [
    "## conversion rate by country\n",
    "#calculate_pvalue(df_ES_NonSpain)\n",
    "\n",
    "for country in df_ES_NonSpain['country'].unique():\n",
    "    print(country) \n",
    "    print(\"Total no\", df_ES_NonSpain[df_ES_NonSpain['country']==country].shape[0], \\\n",
    "          \"Treatment\", df_ES_NonSpain[(df_ES_NonSpain['country']==country) & (df_ES_NonSpain['test']==1)].shape[0], \\\n",
    "         \"Control\", df_ES_NonSpain[(df_ES_NonSpain['country']==country) & (df_ES_NonSpain['test']==0)].shape[0])\n",
    "    calculate_pvalue(df_ES_NonSpain[df_ES_NonSpain['country']==country])\n",
    "    print(\"======\")"
   ]
  },
  {
   "cell_type": "code",
   "execution_count": 76,
   "id": "d6cdae5a",
   "metadata": {},
   "outputs": [
    {
     "name": "stdout",
     "output_type": "stream",
     "text": [
      "date 2015-12-04 Total no 103927 Treatment 0.53811 Control 0.46189\n",
      "date 2015-11-30 Total no 52518 Treatment 0.53785 Control 0.46215\n",
      "date 2015-12-03 Total no 73377 Treatment 0.5374 Control 0.4626\n",
      "date 2015-12-02 Total no 52116 Treatment 0.53573 Control 0.46427\n",
      "date 2015-12-01 Total no 52463 Treatment 0.53847 Control 0.46153\n"
     ]
    }
   ],
   "source": [
    "## conversion rate by date\n",
    "#calculate_pvalue(df_ES_NonSpain)\n",
    "\n",
    "for date in df_ES_NonSpain['date'].unique():\n",
    "    total_no = df_ES_NonSpain[df_ES_NonSpain['date']==date].shape[0]\n",
    "    if total_no != 0:\n",
    "        tmt_no = df_ES_NonSpain[(df_ES_NonSpain['date']==date) & (df_ES_NonSpain['test']==1)].shape[0]\n",
    "        ctl_no = df_ES_NonSpain[(df_ES_NonSpain['date']==date) & (df_ES_NonSpain['test']==0)].shape[0]\n",
    "        tmt_ratio = round(tmt_no/total_no , 5)\n",
    "        ctl_ratio = round(ctl_no/total_no , 5)\n",
    "        print(\"date\", date, \"Total no\", total_no, \\\n",
    "              \"Treatment\", tmt_ratio, \\\n",
    "             \"Control\", ctl_ratio)"
   ]
  },
  {
   "cell_type": "code",
   "execution_count": 79,
   "id": "9a92fb0a",
   "metadata": {},
   "outputs": [
    {
     "name": "stdout",
     "output_type": "stream",
     "text": [
      "2015-12-04\n",
      "Total no 103927 Treatment 55924 Control 48003\n",
      "n_treatment 55924 n_control 48003\n",
      "p_delta in % -0.37 p_treatment in % 4.35 p_control in % 4.72\n",
      "p-value 0.004369301969349105\n",
      "CI in % -0.62 -0.12\n",
      "======\n",
      "2015-11-30\n",
      "Total no 52518 Treatment 28247 Control 24271\n",
      "n_treatment 28247 n_control 24271\n",
      "p_delta in % -0.67 p_treatment in % 4.48 p_control in % 5.15\n",
      "p-value 0.000345250309633645\n",
      "CI in % -1.04 -0.3\n",
      "======\n",
      "2015-12-03\n",
      "Total no 73377 Treatment 39433 Control 33944\n",
      "n_treatment 39433 n_control 33944\n",
      "p_delta in % -0.56 p_treatment in % 4.38 p_control in % 4.94\n",
      "p-value 0.00031233794421484665\n",
      "CI in % -0.87 -0.26\n",
      "======\n",
      "2015-12-02\n",
      "Total no 52116 Treatment 27920 Control 24196\n",
      "n_treatment 27920 n_control 24196\n",
      "p_delta in % -0.46 p_treatment in % 4.43 p_control in % 4.89\n",
      "p-value 0.012649942119666307\n",
      "CI in % -0.83 -0.1\n",
      "======\n",
      "2015-12-01\n",
      "Total no 52463 Treatment 28250 Control 24213\n",
      "n_treatment 28250 n_control 24213\n",
      "p_delta in % -0.61 p_treatment in % 4.13 p_control in % 4.74\n",
      "p-value 0.0006830757902161034\n",
      "CI in % -0.97 -0.26\n",
      "======\n"
     ]
    }
   ],
   "source": [
    "for date in df_ES_NonSpain['date'].unique():\n",
    "    print(date) \n",
    "    print(\"Total no\", df_ES_NonSpain[df_ES_NonSpain['date']==date].shape[0], \\\n",
    "          \"Treatment\", df_ES_NonSpain[(df_ES_NonSpain['date']==date) & (df_ES_NonSpain['test']==1)].shape[0], \\\n",
    "         \"Control\", df_ES_NonSpain[(df_ES_NonSpain['date']==date) & (df_ES_NonSpain['test']==0)].shape[0])\n",
    "    calculate_pvalue(df_ES_NonSpain[df_ES_NonSpain['date']==date])\n",
    "    print(\"======\")"
   ]
  },
  {
   "cell_type": "code",
   "execution_count": 113,
   "id": "29d3840a",
   "metadata": {},
   "outputs": [
    {
     "data": {
      "text/html": [
       "<div>\n",
       "<style scoped>\n",
       "    .dataframe tbody tr th:only-of-type {\n",
       "        vertical-align: middle;\n",
       "    }\n",
       "\n",
       "    .dataframe tbody tr th {\n",
       "        vertical-align: top;\n",
       "    }\n",
       "\n",
       "    .dataframe thead th {\n",
       "        text-align: right;\n",
       "    }\n",
       "</style>\n",
       "<table border=\"1\" class=\"dataframe\">\n",
       "  <thead>\n",
       "    <tr style=\"text-align: right;\">\n",
       "      <th></th>\n",
       "      <th>user_id</th>\n",
       "      <th>date</th>\n",
       "      <th>source</th>\n",
       "      <th>device</th>\n",
       "      <th>browser_language</th>\n",
       "      <th>ads_channel</th>\n",
       "      <th>browser</th>\n",
       "      <th>conversion</th>\n",
       "      <th>test</th>\n",
       "      <th>sex</th>\n",
       "      <th>age</th>\n",
       "      <th>country</th>\n",
       "    </tr>\n",
       "  </thead>\n",
       "  <tbody>\n",
       "    <tr>\n",
       "      <th>1</th>\n",
       "      <td>497851</td>\n",
       "      <td>2015-12-04</td>\n",
       "      <td>Ads</td>\n",
       "      <td>Web</td>\n",
       "      <td>ES</td>\n",
       "      <td>Google</td>\n",
       "      <td>IE</td>\n",
       "      <td>0</td>\n",
       "      <td>1</td>\n",
       "      <td>M</td>\n",
       "      <td>21.0</td>\n",
       "      <td>Mexico</td>\n",
       "    </tr>\n",
       "    <tr>\n",
       "      <th>4</th>\n",
       "      <td>548435</td>\n",
       "      <td>2015-11-30</td>\n",
       "      <td>Ads</td>\n",
       "      <td>Web</td>\n",
       "      <td>ES</td>\n",
       "      <td>Google</td>\n",
       "      <td>FireFox</td>\n",
       "      <td>0</td>\n",
       "      <td>1</td>\n",
       "      <td>M</td>\n",
       "      <td>19.0</td>\n",
       "      <td>Mexico</td>\n",
       "    </tr>\n",
       "    <tr>\n",
       "      <th>5</th>\n",
       "      <td>540675</td>\n",
       "      <td>2015-12-03</td>\n",
       "      <td>Direct</td>\n",
       "      <td>Mobile</td>\n",
       "      <td>ES</td>\n",
       "      <td>NaN</td>\n",
       "      <td>Android_App</td>\n",
       "      <td>0</td>\n",
       "      <td>1</td>\n",
       "      <td>F</td>\n",
       "      <td>22.0</td>\n",
       "      <td>Venezuela</td>\n",
       "    </tr>\n",
       "    <tr>\n",
       "      <th>8</th>\n",
       "      <td>261625</td>\n",
       "      <td>2015-12-04</td>\n",
       "      <td>Direct</td>\n",
       "      <td>Mobile</td>\n",
       "      <td>ES</td>\n",
       "      <td>NaN</td>\n",
       "      <td>Android_App</td>\n",
       "      <td>0</td>\n",
       "      <td>1</td>\n",
       "      <td>M</td>\n",
       "      <td>31.0</td>\n",
       "      <td>Bolivia</td>\n",
       "    </tr>\n",
       "    <tr>\n",
       "      <th>9</th>\n",
       "      <td>10427</td>\n",
       "      <td>2015-12-04</td>\n",
       "      <td>Ads</td>\n",
       "      <td>Mobile</td>\n",
       "      <td>ES</td>\n",
       "      <td>Facebook</td>\n",
       "      <td>Android_App</td>\n",
       "      <td>0</td>\n",
       "      <td>0</td>\n",
       "      <td>F</td>\n",
       "      <td>33.0</td>\n",
       "      <td>Mexico</td>\n",
       "    </tr>\n",
       "  </tbody>\n",
       "</table>\n",
       "</div>"
      ],
      "text/plain": [
       "   user_id        date  source  device browser_language ads_channel  \\\n",
       "1   497851  2015-12-04     Ads     Web               ES      Google   \n",
       "4   548435  2015-11-30     Ads     Web               ES      Google   \n",
       "5   540675  2015-12-03  Direct  Mobile               ES         NaN   \n",
       "8   261625  2015-12-04  Direct  Mobile               ES         NaN   \n",
       "9    10427  2015-12-04     Ads  Mobile               ES    Facebook   \n",
       "\n",
       "       browser  conversion  test sex   age    country  \n",
       "1           IE           0     1   M  21.0     Mexico  \n",
       "4      FireFox           0     1   M  19.0     Mexico  \n",
       "5  Android_App           0     1   F  22.0  Venezuela  \n",
       "8  Android_App           0     1   M  31.0    Bolivia  \n",
       "9  Android_App           0     0   F  33.0     Mexico  "
      ]
     },
     "execution_count": 113,
     "metadata": {},
     "output_type": "execute_result"
    }
   ],
   "source": [
    "df_ES_NonSpain.head()"
   ]
  },
  {
   "cell_type": "code",
   "execution_count": 117,
   "id": "255d582f",
   "metadata": {},
   "outputs": [
    {
     "name": "stdout",
     "output_type": "stream",
     "text": [
      "Ads\n",
      "Total no 134033 Treatment 71895 Control 62138\n",
      "n_treatment 71895 n_control 62138\n",
      "p_delta in % -0.57 p_treatment in % 4.35 p_control in % 4.92\n",
      "p-value 7.124125185667552e-07\n",
      "CI in % -0.8 -0.35\n",
      "======\n",
      "Direct\n",
      "Total no 66903 Treatment 35906 Control 30997\n",
      "n_treatment 35906 n_control 30997\n",
      "p_delta in % -0.62 p_treatment in % 4.28 p_control in % 4.9\n",
      "p-value 0.0001286642775010934\n",
      "CI in % -0.94 -0.3\n",
      "======\n",
      "SEO\n",
      "Total no 133465 Treatment 71973 Control 61492\n",
      "n_treatment 71973 n_control 61492\n",
      "p_delta in % -0.4 p_treatment in % 4.39 p_control in % 4.79\n",
      "p-value 0.0005572093985742277\n",
      "CI in % -0.62 -0.17\n",
      "======\n"
     ]
    }
   ],
   "source": [
    "for source in df_ES_NonSpain['source'].unique():\n",
    "    print(source) \n",
    "    print(\"Total no\", df_ES_NonSpain[df_ES_NonSpain['source']==source].shape[0], \\\n",
    "          \"Treatment\", df_ES_NonSpain[(df_ES_NonSpain['source']==source) & (df_ES_NonSpain['test']==1)].shape[0], \\\n",
    "         \"Control\", df_ES_NonSpain[(df_ES_NonSpain['source']==source) & (df_ES_NonSpain['test']==0)].shape[0])\n",
    "    calculate_pvalue(df_ES_NonSpain[df_ES_NonSpain['source']==source])\n",
    "    print(\"======\")"
   ]
  },
  {
   "cell_type": "code",
   "execution_count": 119,
   "id": "c42b8168",
   "metadata": {},
   "outputs": [
    {
     "name": "stdout",
     "output_type": "stream",
     "text": [
      "Web\n",
      "Total no 185566 Treatment 99672 Control 85894\n",
      "n_treatment 99672 n_control 85894\n",
      "p_delta in % -0.47 p_treatment in % 4.32 p_control in % 4.79\n",
      "p-value 1.1530875514722313e-06\n",
      "CI in % -0.66 -0.28\n",
      "======\n",
      "Mobile\n",
      "Total no 148835 Treatment 80102 Control 68733\n",
      "n_treatment 80102 n_control 68733\n",
      "p_delta in % -0.56 p_treatment in % 4.39 p_control in % 4.96\n",
      "p-value 3.186535490685915e-07\n",
      "CI in % -0.78 -0.35\n",
      "======\n"
     ]
    }
   ],
   "source": [
    "for device in df_ES_NonSpain['device'].unique():\n",
    "    print(device) \n",
    "    print(\"Total no\", df_ES_NonSpain[df_ES_NonSpain['device']==device].shape[0], \\\n",
    "          \"Treatment\", df_ES_NonSpain[(df_ES_NonSpain['device']==device) & (df_ES_NonSpain['test']==1)].shape[0], \\\n",
    "         \"Control\", df_ES_NonSpain[(df_ES_NonSpain['device']==device) & (df_ES_NonSpain['test']==0)].shape[0])\n",
    "    calculate_pvalue(df_ES_NonSpain[df_ES_NonSpain['device']==device])\n",
    "    print(\"======\")"
   ]
  },
  {
   "cell_type": "code",
   "execution_count": 121,
   "id": "7ecc0fc0",
   "metadata": {},
   "outputs": [
    {
     "name": "stdout",
     "output_type": "stream",
     "text": [
      "Google\n",
      "Total no 50106 Treatment 26841 Control 23265\n",
      "n_treatment 26841 n_control 23265\n",
      "p_delta in % -0.47 p_treatment in % 4.37 p_control in % 4.84\n",
      "p-value 0.011741671247870386\n",
      "CI in % -0.84 -0.11\n",
      "======\n",
      "nan\n",
      "Total no 0 Treatment 0 Control 0\n",
      "n_treatment 0 n_control 0\n",
      "p_delta in % nan p_treatment in % nan p_control in % nan\n",
      "p-value nan\n",
      "CI in % nan nan\n",
      "======\n",
      "Facebook\n",
      "Total no 50546 Treatment 27159 Control 23387\n",
      "n_treatment 27159 n_control 23387\n",
      "p_delta in % -0.75 p_treatment in % 4.39 p_control in % 5.14\n",
      "p-value 8.868807825392157e-05\n",
      "CI in % -1.12 -0.37\n",
      "======\n",
      "Bing\n",
      "Total no 10018 Treatment 5389 Control 4629\n",
      "n_treatment 5389 n_control 4629\n",
      "p_delta in % -0.6 p_treatment in % 4.05 p_control in % 4.64\n",
      "p-value 0.14334848376197742\n",
      "CI in % -1.4 0.2\n",
      "======\n",
      "Yahoo\n",
      "Total no 20318 Treatment 10890 Control 9428\n",
      "n_treatment 10890 n_control 9428\n",
      "p_delta in % -0.39 p_treatment in % 4.43 p_control in % 4.82\n",
      "p-value 0.18799313675340262\n",
      "CI in % -0.97 0.19\n",
      "======\n",
      "Other\n",
      "Total no 3045 Treatment 1616 Control 1429\n",
      "n_treatment 1616 n_control 1429\n",
      "p_delta in % -0.44 p_treatment in % 3.9 p_control in % 4.34\n",
      "p-value 0.5425127871539772\n",
      "CI in % -1.86 0.98\n",
      "======\n"
     ]
    },
    {
     "name": "stderr",
     "output_type": "stream",
     "text": [
      "/var/folders/d3/n6gqzx2x2cd87p3mfy_j0q8r0000gp/T/ipykernel_14520/636246040.py:6: RuntimeWarning: invalid value encountered in double_scalars\n",
      "  p_treatment = 1.0*df[df['test'] == 1]['conversion'].sum()/n_treatment\n",
      "/var/folders/d3/n6gqzx2x2cd87p3mfy_j0q8r0000gp/T/ipykernel_14520/636246040.py:8: RuntimeWarning: invalid value encountered in double_scalars\n",
      "  p_control = 1.0*df[df['test'] == 0]['conversion'].sum()/n_control\n"
     ]
    }
   ],
   "source": [
    "for ads_channel in df_ES_NonSpain['ads_channel'].unique():\n",
    "    print(ads_channel) \n",
    "    print(\"Total no\", df_ES_NonSpain[df_ES_NonSpain['ads_channel']==ads_channel].shape[0], \\\n",
    "          \"Treatment\", df_ES_NonSpain[(df_ES_NonSpain['ads_channel']==ads_channel) & (df_ES_NonSpain['test']==1)].shape[0], \\\n",
    "         \"Control\", df_ES_NonSpain[(df_ES_NonSpain['ads_channel']==ads_channel) & (df_ES_NonSpain['test']==0)].shape[0])\n",
    "    calculate_pvalue(df_ES_NonSpain[df_ES_NonSpain['ads_channel']==ads_channel])\n",
    "    print(\"======\")"
   ]
  },
  {
   "cell_type": "code",
   "execution_count": 122,
   "id": "9e4d300a",
   "metadata": {},
   "outputs": [
    {
     "data": {
      "text/html": [
       "<div>\n",
       "<style scoped>\n",
       "    .dataframe tbody tr th:only-of-type {\n",
       "        vertical-align: middle;\n",
       "    }\n",
       "\n",
       "    .dataframe tbody tr th {\n",
       "        vertical-align: top;\n",
       "    }\n",
       "\n",
       "    .dataframe thead th {\n",
       "        text-align: right;\n",
       "    }\n",
       "</style>\n",
       "<table border=\"1\" class=\"dataframe\">\n",
       "  <thead>\n",
       "    <tr style=\"text-align: right;\">\n",
       "      <th></th>\n",
       "      <th>user_id</th>\n",
       "      <th>date</th>\n",
       "      <th>source</th>\n",
       "      <th>device</th>\n",
       "      <th>browser_language</th>\n",
       "      <th>ads_channel</th>\n",
       "      <th>browser</th>\n",
       "      <th>conversion</th>\n",
       "      <th>test</th>\n",
       "      <th>sex</th>\n",
       "      <th>age</th>\n",
       "      <th>country</th>\n",
       "    </tr>\n",
       "  </thead>\n",
       "  <tbody>\n",
       "    <tr>\n",
       "      <th>1</th>\n",
       "      <td>497851</td>\n",
       "      <td>2015-12-04</td>\n",
       "      <td>Ads</td>\n",
       "      <td>Web</td>\n",
       "      <td>ES</td>\n",
       "      <td>Google</td>\n",
       "      <td>IE</td>\n",
       "      <td>0</td>\n",
       "      <td>1</td>\n",
       "      <td>M</td>\n",
       "      <td>21.0</td>\n",
       "      <td>Mexico</td>\n",
       "    </tr>\n",
       "    <tr>\n",
       "      <th>4</th>\n",
       "      <td>548435</td>\n",
       "      <td>2015-11-30</td>\n",
       "      <td>Ads</td>\n",
       "      <td>Web</td>\n",
       "      <td>ES</td>\n",
       "      <td>Google</td>\n",
       "      <td>FireFox</td>\n",
       "      <td>0</td>\n",
       "      <td>1</td>\n",
       "      <td>M</td>\n",
       "      <td>19.0</td>\n",
       "      <td>Mexico</td>\n",
       "    </tr>\n",
       "    <tr>\n",
       "      <th>5</th>\n",
       "      <td>540675</td>\n",
       "      <td>2015-12-03</td>\n",
       "      <td>Direct</td>\n",
       "      <td>Mobile</td>\n",
       "      <td>ES</td>\n",
       "      <td>NaN</td>\n",
       "      <td>Android_App</td>\n",
       "      <td>0</td>\n",
       "      <td>1</td>\n",
       "      <td>F</td>\n",
       "      <td>22.0</td>\n",
       "      <td>Venezuela</td>\n",
       "    </tr>\n",
       "    <tr>\n",
       "      <th>8</th>\n",
       "      <td>261625</td>\n",
       "      <td>2015-12-04</td>\n",
       "      <td>Direct</td>\n",
       "      <td>Mobile</td>\n",
       "      <td>ES</td>\n",
       "      <td>NaN</td>\n",
       "      <td>Android_App</td>\n",
       "      <td>0</td>\n",
       "      <td>1</td>\n",
       "      <td>M</td>\n",
       "      <td>31.0</td>\n",
       "      <td>Bolivia</td>\n",
       "    </tr>\n",
       "    <tr>\n",
       "      <th>9</th>\n",
       "      <td>10427</td>\n",
       "      <td>2015-12-04</td>\n",
       "      <td>Ads</td>\n",
       "      <td>Mobile</td>\n",
       "      <td>ES</td>\n",
       "      <td>Facebook</td>\n",
       "      <td>Android_App</td>\n",
       "      <td>0</td>\n",
       "      <td>0</td>\n",
       "      <td>F</td>\n",
       "      <td>33.0</td>\n",
       "      <td>Mexico</td>\n",
       "    </tr>\n",
       "  </tbody>\n",
       "</table>\n",
       "</div>"
      ],
      "text/plain": [
       "   user_id        date  source  device browser_language ads_channel  \\\n",
       "1   497851  2015-12-04     Ads     Web               ES      Google   \n",
       "4   548435  2015-11-30     Ads     Web               ES      Google   \n",
       "5   540675  2015-12-03  Direct  Mobile               ES         NaN   \n",
       "8   261625  2015-12-04  Direct  Mobile               ES         NaN   \n",
       "9    10427  2015-12-04     Ads  Mobile               ES    Facebook   \n",
       "\n",
       "       browser  conversion  test sex   age    country  \n",
       "1           IE           0     1   M  21.0     Mexico  \n",
       "4      FireFox           0     1   M  19.0     Mexico  \n",
       "5  Android_App           0     1   F  22.0  Venezuela  \n",
       "8  Android_App           0     1   M  31.0    Bolivia  \n",
       "9  Android_App           0     0   F  33.0     Mexico  "
      ]
     },
     "execution_count": 122,
     "metadata": {},
     "output_type": "execute_result"
    }
   ],
   "source": [
    "df_ES_NonSpain.head()"
   ]
  },
  {
   "cell_type": "code",
   "execution_count": 124,
   "id": "57486f84",
   "metadata": {},
   "outputs": [
    {
     "name": "stdout",
     "output_type": "stream",
     "text": [
      "M\n",
      "Total no 194806 Treatment 104716 Control 90090\n",
      "n_treatment 104716 n_control 90090\n",
      "p_delta in % -0.48 p_treatment in % 4.37 p_control in % 4.85\n",
      "p-value 5.439326540218511e-07\n",
      "CI in % -0.67 -0.29\n",
      "======\n",
      "F\n",
      "Total no 139208 Treatment 74882 Control 64326\n",
      "n_treatment 74882 n_control 64326\n",
      "p_delta in % -0.56 p_treatment in % 4.33 p_control in % 4.89\n",
      "p-value 8.853970850457465e-07\n",
      "CI in % -0.78 -0.33\n",
      "======\n",
      "nan\n",
      "Total no 0 Treatment 0 Control 0\n",
      "n_treatment 0 n_control 0\n",
      "p_delta in % nan p_treatment in % nan p_control in % nan\n",
      "p-value nan\n",
      "CI in % nan nan\n",
      "======\n"
     ]
    },
    {
     "name": "stderr",
     "output_type": "stream",
     "text": [
      "/var/folders/d3/n6gqzx2x2cd87p3mfy_j0q8r0000gp/T/ipykernel_14520/636246040.py:6: RuntimeWarning: invalid value encountered in double_scalars\n",
      "  p_treatment = 1.0*df[df['test'] == 1]['conversion'].sum()/n_treatment\n",
      "/var/folders/d3/n6gqzx2x2cd87p3mfy_j0q8r0000gp/T/ipykernel_14520/636246040.py:8: RuntimeWarning: invalid value encountered in double_scalars\n",
      "  p_control = 1.0*df[df['test'] == 0]['conversion'].sum()/n_control\n"
     ]
    }
   ],
   "source": [
    "for sex in df_ES_NonSpain['sex'].unique():\n",
    "    print(sex) \n",
    "    print(\"Total no\", df_ES_NonSpain[df_ES_NonSpain['sex']==sex].shape[0], \\\n",
    "          \"Treatment\", df_ES_NonSpain[(df_ES_NonSpain['sex']==sex) & (df_ES_NonSpain['test']==1)].shape[0], \\\n",
    "         \"Control\", df_ES_NonSpain[(df_ES_NonSpain['sex']==sex) & (df_ES_NonSpain['test']==0)].shape[0])\n",
    "    calculate_pvalue(df_ES_NonSpain[df_ES_NonSpain['sex']==sex])\n",
    "    print(\"======\")"
   ]
  },
  {
   "cell_type": "markdown",
   "id": "4598d192",
   "metadata": {},
   "source": [
    "## Algorithm to automatically detect issue\n",
    "### Sampling bias checking algorithm\n",
    "### Result: Sampling_Balance = TRUE/FALSE, for either complete dataset, or segmentations\n"
   ]
  },
  {
   "cell_type": "code",
   "execution_count": 196,
   "id": "2f20c76f",
   "metadata": {},
   "outputs": [],
   "source": [
    "def check_assignment_imbalance(df):\n",
    "    df1 = df[['user_id', 'test']].groupby(['test']).count().reset_index()\n",
    "    # count the no. of users in treament vs control\n",
    "    print(df1)\n",
    "    pvalue = stats.binom_test(df1[df1['test']==1]['user_id'].values[0], \n",
    "    n = df1['user_id'].sum(), \n",
    "    p=0.5, \n",
    "    alternative='two-sided')\n",
    "    print(pvalue, \"type of pvalue: \", type(pvalue), pvalue<0.05)\n",
    "    if pvalue < 0.05 or str(pvalue) == \"0.0\":\n",
    "        return \"FALSE\"\n",
    "    else:\n",
    "        return \"TRUE\""
   ]
  },
  {
   "cell_type": "code",
   "execution_count": 182,
   "id": "236d54b3",
   "metadata": {},
   "outputs": [
    {
     "name": "stdout",
     "output_type": "stream",
     "text": [
      "   test  user_id\n",
      "0     0   237338\n",
      "1     1   215983\n",
      "7.799436729492344e-221\n"
     ]
    },
    {
     "name": "stderr",
     "output_type": "stream",
     "text": [
      "/Users/huangz36/miniconda3/lib/python3.9/site-packages/scipy/stats/_discrete_distns.py:67: RuntimeWarning: divide by zero encountered in _binom_pdf\n",
      "  return _boost._binom_pdf(x, n, p)\n"
     ]
    }
   ],
   "source": [
    "Overall_Balance = check_assignment_imbalance(df)"
   ]
  },
  {
   "cell_type": "code",
   "execution_count": 183,
   "id": "6ca706b9",
   "metadata": {},
   "outputs": [
    {
     "name": "stdout",
     "output_type": "stream",
     "text": [
      "FALSE\n"
     ]
    }
   ],
   "source": [
    "print(Overall_Balance)"
   ]
  },
  {
   "cell_type": "code",
   "execution_count": 184,
   "id": "0f3f24b8",
   "metadata": {},
   "outputs": [],
   "source": [
    "def check_assignment_imbalance_by_segment(df, column_to_segment):\n",
    "    segments = df[column_to_segment].unique()\n",
    "    print(\"==================== \")\n",
    "    print(\"Column to segment = \", column_to_segment)\n",
    "    print(\"Available segments = \", segments)\n",
    "    overall_inbalance = check_assignment_imbalance(df)\n",
    "    print(\"*** OVERALL IMBALANCE :\", overall_inbalance)\n",
    "    print(\"==================== \\n\\n\")\n",
    "    \n",
    "    \n",
    "    \n",
    "    for seg in segments:\n",
    "        print(str(column_to_segment) + \":\" + str(seg)) \n",
    "        total_count = df[df[column_to_segment]==seg].shape[0]\n",
    "        if total_count != 0:\n",
    "            trt_count = df_ES_NonSpain[(df[column_to_segment]==seg) & (df['test']==1)].shape[0]\n",
    "            ctr_count = df_ES_NonSpain[(df[column_to_segment]==seg) & (df['test']==0)].shape[0]\n",
    "            trt_ratio = round(trt_count/total_count, 5)\n",
    "            ctr_ratio = round(ctr_count/total_count, 5)\n",
    "            \n",
    "            balance_or_not_based_on_pvalue = check_assignment_imbalance(df_ES_NonSpain[df[column_to_segment]==seg])\n",
    "            print(\"****** segment\", seg,  \"segment_balance\", balance_or_not_based_on_pvalue, \\\n",
    "                  \"total_count\", total_count, \\\n",
    "                  \"treatment_ratio\", trt_ratio, \\\n",
    "                  \"control_ratio\", ctr_ratio, \"\\n\")\n",
    "            if balance_or_not_based_on_pvalue and balance_or_not_based_on_pvalue == \"FALSE\":\n",
    "                return \"FALSE\"\n",
    "    return \"TRUE\""
   ]
  },
  {
   "cell_type": "code",
   "execution_count": 199,
   "id": "a696a32a",
   "metadata": {},
   "outputs": [
    {
     "name": "stdout",
     "output_type": "stream",
     "text": [
      "==================== \n",
      "Column to segment =  country\n",
      "Available segments =  ['Mexico' 'Venezuela' 'Bolivia' 'Colombia' 'Uruguay' 'El Salvador'\n",
      " 'Nicaragua' 'Peru' 'Argentina' 'Chile' 'Ecuador' 'Guatemala' 'Honduras'\n",
      " 'Paraguay' 'Panama' 'Costa Rica' nan]\n",
      "   test  user_id\n",
      "0     0   154627\n",
      "1     1   179774\n",
      "2.5e-323 type of pvalue:  <class 'numpy.float64'> True\n",
      "*** OVERALL IMBALANCE : FALSE\n",
      "==================== \n",
      "\n",
      "\n",
      "country:Mexico\n",
      "   test  user_id\n",
      "0     0    53550\n",
      "1     1    53536\n",
      "0.9683114396989508 type of pvalue:  <class 'numpy.float64'> False\n",
      "****** segment Mexico segment_balance TRUE total_count 107086 treatment_ratio 0.49993 control_ratio 0.50007 \n",
      "\n",
      "country:Venezuela\n",
      "   test  user_id\n",
      "0     0    13488\n",
      "1     1    13245\n",
      "0.13884467906884249 type of pvalue:  <class 'numpy.float64'> False\n",
      "****** segment Venezuela segment_balance TRUE total_count 26733 treatment_ratio 0.49546 control_ratio 0.50454 \n",
      "\n",
      "country:Bolivia\n",
      "   test  user_id\n",
      "0     0     4600\n",
      "1     1     4654\n"
     ]
    },
    {
     "name": "stderr",
     "output_type": "stream",
     "text": [
      "/Users/huangz36/miniconda3/lib/python3.9/site-packages/scipy/stats/_discrete_distns.py:67: RuntimeWarning: divide by zero encountered in _binom_pdf\n",
      "  return _boost._binom_pdf(x, n, p)\n",
      "/Users/huangz36/miniconda3/lib/python3.9/site-packages/scipy/stats/_discrete_distns.py:67: RuntimeWarning: divide by zero encountered in _binom_pdf\n",
      "  return _boost._binom_pdf(x, n, p)\n",
      "/Users/huangz36/miniconda3/lib/python3.9/site-packages/scipy/stats/_discrete_distns.py:67: RuntimeWarning: divide by zero encountered in _binom_pdf\n",
      "  return _boost._binom_pdf(x, n, p)\n",
      "/Users/huangz36/miniconda3/lib/python3.9/site-packages/scipy/stats/_discrete_distns.py:67: RuntimeWarning: divide by zero encountered in _binom_pdf\n",
      "  return _boost._binom_pdf(x, n, p)\n"
     ]
    },
    {
     "name": "stdout",
     "output_type": "stream",
     "text": [
      "0.5816712463721089 type of pvalue:  <class 'numpy.float64'> False\n",
      "****** segment Bolivia segment_balance TRUE total_count 9254 treatment_ratio 0.50292 control_ratio 0.49708 \n",
      "\n",
      "country:Colombia\n",
      "   test  user_id\n",
      "0     0    22502\n",
      "1     1    22348\n",
      "0.4700157842375056 type of pvalue:  <class 'numpy.float64'> False\n",
      "****** segment Colombia segment_balance TRUE total_count 44850 treatment_ratio 0.49828 control_ratio 0.50172 \n",
      "\n",
      "country:Uruguay\n",
      "   test  user_id\n",
      "0     0      356\n",
      "1     1     3098\n",
      "0.0 type of pvalue:  <class 'numpy.float64'> True\n",
      "****** segment Uruguay segment_balance FALSE total_count 3454 treatment_ratio 0.89693 control_ratio 0.10307 \n",
      "\n"
     ]
    },
    {
     "name": "stderr",
     "output_type": "stream",
     "text": [
      "/Users/huangz36/miniconda3/lib/python3.9/site-packages/scipy/stats/_discrete_distns.py:67: RuntimeWarning: divide by zero encountered in _binom_pdf\n",
      "  return _boost._binom_pdf(x, n, p)\n",
      "/Users/huangz36/miniconda3/lib/python3.9/site-packages/scipy/stats/_discrete_distns.py:67: RuntimeWarning: divide by zero encountered in _binom_pdf\n",
      "  return _boost._binom_pdf(x, n, p)\n"
     ]
    }
   ],
   "source": [
    "Segmentwise_Sampling_Balance = check_assignment_imbalance_by_segment(df_ES_NonSpain, 'country')"
   ]
  },
  {
   "cell_type": "code",
   "execution_count": 171,
   "id": "96795fba",
   "metadata": {},
   "outputs": [
    {
     "name": "stdout",
     "output_type": "stream",
     "text": [
      "Overall_Sampling_Balance FALSE\n",
      "Segmentwise_Sampling_Balance FALSE\n"
     ]
    }
   ],
   "source": [
    "print(\"Overall_Sampling_Balance\", Overall_Balance)\n",
    "print(\"Segmentwise_Sampling_Balance\", Segmentwise_Sampling_Balance)"
   ]
  },
  {
   "cell_type": "code",
   "execution_count": 197,
   "id": "63504893",
   "metadata": {},
   "outputs": [],
   "source": [
    "Uruguay = df_ES_NonSpain[df_ES_NonSpain['country']=='Uruguay']"
   ]
  },
  {
   "cell_type": "code",
   "execution_count": 198,
   "id": "5c35ddb3",
   "metadata": {},
   "outputs": [
    {
     "name": "stdout",
     "output_type": "stream",
     "text": [
      "   test  user_id\n",
      "0     0      356\n",
      "1     1     3098\n",
      "0.0 type of pvalue:  <class 'numpy.float64'> True\n"
     ]
    },
    {
     "name": "stderr",
     "output_type": "stream",
     "text": [
      "/Users/huangz36/miniconda3/lib/python3.9/site-packages/scipy/stats/_discrete_distns.py:67: RuntimeWarning: divide by zero encountered in _binom_pdf\n",
      "  return _boost._binom_pdf(x, n, p)\n"
     ]
    },
    {
     "data": {
      "text/plain": [
       "'FALSE'"
      ]
     },
     "execution_count": 198,
     "metadata": {},
     "output_type": "execute_result"
    }
   ],
   "source": [
    "check_assignment_imbalance(Uruguay)"
   ]
  },
  {
   "cell_type": "markdown",
   "id": "09a97775",
   "metadata": {},
   "source": [
    "## Conclusions\n",
    "### 1. The A/B test result indeed give a negative result for ES browser_language countries excluding Spain. \n",
    "#### Delta is -0.51% with p-value 1.991e-12 and 95% CI -0.66 -0.37\n",
    "### 2. The result might be happening due to sampling bias in the A/B testing experiment design.\n",
    "#### When I inspect the % of control vs % of treatment in each LatAm country, Uruguay has 90% in treatment while 10% in control. Argentina has 80% in treatment and 20% in control\n",
    "#### I also inspected the A/B testing result country by country, none of the countries had significant p-value in t-test. That means for each version of the translation we do not see a negative reesult compared to old version\n",
    "#### With the above information, the localized translation is not really worse, at least we do not have enough information to conclude. \n",
    "### 3. There is some flaw with sampling, I make a assumption of binomial distribution to check assignment bias. P-value 7.8e-221 showed significant bias\n",
    "#### I then designed an algorithm to retur FALSE if overall sample assignment is biased or for specific segment based on a column (eg. country), any one segment contains bias "
   ]
  }
 ],
 "metadata": {
  "kernelspec": {
   "display_name": "Python 3 (ipykernel)",
   "language": "python",
   "name": "python3"
  },
  "language_info": {
   "codemirror_mode": {
    "name": "ipython",
    "version": 3
   },
   "file_extension": ".py",
   "mimetype": "text/x-python",
   "name": "python",
   "nbconvert_exporter": "python",
   "pygments_lexer": "ipython3",
   "version": "3.9.12"
  }
 },
 "nbformat": 4,
 "nbformat_minor": 5
}
